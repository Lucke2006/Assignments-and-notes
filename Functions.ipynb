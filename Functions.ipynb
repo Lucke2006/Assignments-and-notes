{
 "cells": [
  {
   "cell_type": "code",
   "execution_count": 8,
   "metadata": {},
   "outputs": [
    {
     "data": {
      "text/plain": [
       "293747834.0"
      ]
     },
     "execution_count": 8,
     "metadata": {},
     "output_type": "execute_result"
    }
   ],
   "source": [
    "abs(-293747834j)"
   ]
  },
  {
   "cell_type": "code",
   "execution_count": 9,
   "metadata": {},
   "outputs": [
    {
     "data": {
      "text/plain": [
       "'0b1000101011000'"
      ]
     },
     "execution_count": 9,
     "metadata": {},
     "output_type": "execute_result"
    }
   ],
   "source": [
    "bin(4440)"
   ]
  },
  {
   "cell_type": "code",
   "execution_count": 10,
   "metadata": {},
   "outputs": [
    {
     "data": {
      "text/plain": [
       "78125"
      ]
     },
     "execution_count": 10,
     "metadata": {},
     "output_type": "execute_result"
    }
   ],
   "source": [
    "pow(5, 7)"
   ]
  },
  {
   "cell_type": "code",
   "execution_count": 12,
   "metadata": {},
   "outputs": [
    {
     "data": {
      "text/plain": [
       "21"
      ]
     },
     "execution_count": 12,
     "metadata": {},
     "output_type": "execute_result"
    }
   ],
   "source": [
    "len('wefbiwbefbiu32ui3bb3i')"
   ]
  },
  {
   "cell_type": "code",
   "execution_count": 13,
   "metadata": {},
   "outputs": [
    {
     "data": {
      "text/plain": [
       "4440"
      ]
     },
     "execution_count": 13,
     "metadata": {},
     "output_type": "execute_result"
    }
   ],
   "source": [
    "int(0b1000101011000)"
   ]
  },
  {
   "cell_type": "code",
   "execution_count": 18,
   "metadata": {},
   "outputs": [
    {
     "data": {
      "text/plain": [
       "926336713898529563388567880069503262826159877325124512315660672063236317642752"
      ]
     },
     "execution_count": 18,
     "metadata": {},
     "output_type": "execute_result"
    }
   ],
   "source": [
    "int(0b1111111111111111111111111111111111111111111111111111111111111111111111111111111111111111111111111111111111111111111111111111111111111111111111111111111111111111111111111111111111111111111111111111111111111111111111111111111000000000000000000000000000000000000)"
   ]
  },
  {
   "cell_type": "code",
   "execution_count": 21,
   "metadata": {},
   "outputs": [
    {
     "data": {
      "text/plain": [
       "6"
      ]
     },
     "execution_count": 21,
     "metadata": {},
     "output_type": "execute_result"
    }
   ],
   "source": [
    "len('Garcia')"
   ]
  },
  {
   "cell_type": "code",
   "execution_count": 45,
   "metadata": {},
   "outputs": [
    {
     "name": "stdout",
     "output_type": "stream",
     "text": [
      "The grades have to be finals\n",
      "Final Grade:\n",
      "93.95 your grade is A\n"
     ]
    }
   ],
   "source": [
    "def grades(Class_Attendance, Quizzes, Lab_Assignments, Programming_Assignments, Exams):\n",
    "        print('The grades have to be finals')\n",
    "\n",
    "        print('Final Grade:')\n",
    "        grades = ['A', 'A-', 'B+', 'B', 'B-', 'C+', 'C', 'C-', 'D+', 'D', 'D-', 'F'] #all the letters for the grades are in a list so that I can refer to them in the code\n",
    "        fin_gra = Class_Attendance * 0.1 + Quizzes * 0.15 + Lab_Assignments * 0.15 + Programming_Assignments * 0.30 + Exams * 0.30 #the final grade for CSC106 will equal to this operation\n",
    "        if(90 <= fin_gra <= 100): #the next lines of code determine what letter corresponds to the final score, by doing if statements with parameters\n",
    "            if(fin_gra < 92):\n",
    "                grade = grades[1]\n",
    "            elif(fin_gra > 92):\n",
    "                grade = grades[0]\n",
    "        if(80 <= fin_gra < 90):\n",
    "            if(fin_gra < 82):\n",
    "                grade = grades[4]\n",
    "            elif(82 <= fin_gra < 88):\n",
    "                grade = grades[3]\n",
    "            elif(88 <= fin_gra):\n",
    "                grade = grades[2]\n",
    "        if(70 <= fin_gra < 80):\n",
    "            if(fin_gra < 72):\n",
    "                grade = grades[7]\n",
    "            elif(72 <= fin_gra < 78):\n",
    "                grade = grades[6]\n",
    "            elif(78 <= fin_gra):\n",
    "                grade = grades[5]\n",
    "        if(60 <= fin_gra < 70):\n",
    "            if(fin_gra < 62):\n",
    "                grade = grades[10]\n",
    "            elif(62 <= fin_gra < 68):\n",
    "                grade = grades[9]\n",
    "            elif(68 <= fin_gra):\n",
    "                grade = grades[8]\n",
    "        if(fin_gra < 60):\n",
    "            grade = grades[11]\n",
    "        rounded_fin_gra = round(fin_gra, 2)\n",
    "        f\"rounded_fin_gra: {rounded_fin_gra:.2f}\"\n",
    "        print(rounded_fin_gra, 'your grade is', grade)\n",
    "grades(98, 87, 100, 89, 98)"
   ]
  },
  {
   "cell_type": "code",
   "execution_count": 23,
   "metadata": {},
   "outputs": [
    {
     "name": "stdout",
     "output_type": "stream",
     "text": [
      "4\n"
     ]
    }
   ],
   "source": [
    "def square(value):\n",
    "    print(value** 2)\n",
    "square(2)"
   ]
  },
  {
   "cell_type": "code",
   "execution_count": 25,
   "metadata": {},
   "outputs": [
    {
     "name": "stdout",
     "output_type": "stream",
     "text": [
      "Hallo Tom\n",
      "Hallo Sally\n",
      "Hallo Jack\n"
     ]
    }
   ],
   "source": [
    "print('Hallo Tom')\n",
    "print('Hallo Sally')\n",
    "print('Hallo Jack')\n",
    "\n"
   ]
  },
  {
   "cell_type": "code",
   "execution_count": 26,
   "metadata": {},
   "outputs": [
    {
     "name": "stdout",
     "output_type": "stream",
     "text": [
      "Hello Jose\n"
     ]
    }
   ],
   "source": [
    "def greet(name):\n",
    "    print(f'Hello {name}')\n",
    "greet('Jose')"
   ]
  },
  {
   "cell_type": "code",
   "execution_count": 32,
   "metadata": {},
   "outputs": [
    {
     "name": "stdout",
     "output_type": "stream",
     "text": [
      "The University of Mary is a Private university near Bismarck, ND that has 3852 students. It was established in 1959.\n"
     ]
    }
   ],
   "source": [
    "def School_profile(School, Mode, City, State, A_students, year):\n",
    "    print(f'The {School} is a {Mode} university near {City}, {State} that has {A_students} students. It was established in {year}.')\n",
    "School_profile('University of Mary', 'Private', 'Bismarck', 'ND', '3852', 1959)"
   ]
  },
  {
   "cell_type": "code",
   "execution_count": 37,
   "metadata": {},
   "outputs": [
    {
     "data": {
      "text/plain": [
       "27"
      ]
     },
     "execution_count": 37,
     "metadata": {},
     "output_type": "execute_result"
    }
   ],
   "source": [
    "def P(x):\n",
    "    return 3*x\n",
    "P(9)"
   ]
  },
  {
   "cell_type": "code",
   "execution_count": 2,
   "metadata": {},
   "outputs": [
    {
     "data": {
      "text/plain": [
       "2"
      ]
     },
     "execution_count": 2,
     "metadata": {},
     "output_type": "execute_result"
    }
   ],
   "source": [
    "def line(slope, x, c):\n",
    "    Y = slope*x + c\n",
    "    return(Y)\n",
    "line(1, 1, 1)"
   ]
  },
  {
   "cell_type": "code",
   "execution_count": 3,
   "metadata": {},
   "outputs": [
    {
     "data": {
      "text/plain": [
       "2"
      ]
     },
     "execution_count": 3,
     "metadata": {},
     "output_type": "execute_result"
    }
   ],
   "source": [
    "a = lambda m, x, c: m*x+c\n",
    "\n",
    "a(1, 1, 1)"
   ]
  }
 ],
 "metadata": {
  "kernelspec": {
   "display_name": "Python 3",
   "language": "python",
   "name": "python3"
  },
  "language_info": {
   "codemirror_mode": {
    "name": "ipython",
    "version": 3
   },
   "file_extension": ".py",
   "mimetype": "text/x-python",
   "name": "python",
   "nbconvert_exporter": "python",
   "pygments_lexer": "ipython3",
   "version": "3.11.6"
  }
 },
 "nbformat": 4,
 "nbformat_minor": 2
}

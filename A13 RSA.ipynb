{
 "cells": [
  {
   "cell_type": "code",
   "execution_count": null,
   "metadata": {},
   "outputs": [],
   "source": [
    "'''\n",
    "\n",
    "Name: Jose Garcia\n",
    "Class: CSC106\n",
    "HW#: 13\n",
    "QN: 1\n",
    "Date: 12/01/2023\n",
    "\n",
    "''' "
   ]
  },
  {
   "cell_type": "code",
   "execution_count": 4,
   "metadata": {},
   "outputs": [
    {
     "name": "stdout",
     "output_type": "stream",
     "text": [
      "59 61\n",
      "Not again!\n",
      "Your message is: 19.0\n"
     ]
    }
   ],
   "source": [
    "import math\n",
    "from math import gcd\n",
    "from decimal import Decimal\n",
    "import random\n",
    "import time\n",
    "\n",
    "def current_milli_time():\n",
    "    return round(time.time() * 1000)    #function to get the current time in miliseconds since 1970\n",
    "\n",
    "random.seed(current_milli_time())   #set a seed for the randomizer, to always have different prime values and not repeat the same pairs so often\n",
    "\n",
    "def is_prime(n):        #this function will test if the value of q and p is a prime number, if not then it will find another one\n",
    "    if n <= 1:\n",
    "        return False\n",
    "    for i in range(2, int(n ** 0.5) + 1):\n",
    "        if n % i == 0:\n",
    "            return False\n",
    "    return True\n",
    "\n",
    "def q_p():      #function created to make a value for p and q\n",
    "    while True:\n",
    "        x1 = random.randint(1, 100)      #x1 is a random number between 1-100 that will be used to determine p\n",
    "        y1 = random.randint(1, 100)      #y1 is the same as x1 but it will be used to determine q\n",
    "        if(is_prime(x1) == 1) and (is_prime(y1) == 1):  #when the two random numbers are prime, break\n",
    "            break\n",
    "    if(x1 == y1):       #if x = y then find other values that dont match\n",
    "        while(x1 != y1):\n",
    "            p = x1\n",
    "            q = y1\n",
    "            break\n",
    "    if(x1 != y1):       #if x and y are different then set the vlues for q and p\n",
    "        p = x1\n",
    "        q = y1\n",
    "    return(q, p)    \n",
    "\n",
    "q = q_p()[0]    #equal q to the first output of the function\n",
    "p = q_p()[1]    #equal p to the second output of the function     \n",
    "\n",
    "def phi(n):     #FUnction that finds the totient of n\n",
    "    amount = 0\n",
    "    for k in range(1, n + 1):\n",
    "        if gcd(n, k) == 1:\n",
    "            amount += 1\n",
    "    return amount\n",
    "\n",
    "def encrypt(M):\n",
    "    n = q*p     #Q and P are defined from the q_p function, and they are both prime numbers\n",
    "    l = list(range(2, (phi(n))))\n",
    "    for x in l:     #The followig for loop is used to find a number that has a gcd of 1 and is also in the dfined range\n",
    "        if(gcd(phi(n), x) == 1):\n",
    "            e = x\n",
    "    d1 = (e**(-1)) % (phi(n))\n",
    "    d = Decimal(d1)         #I imported the decimal library and turned d into a decimal data type which can hold more decimals than a float\n",
    "    C1 = (M**e)\n",
    "    C = Decimal(C1)\n",
    "    return(C, d)   #return value of C to be later used(only because of testing)\n",
    "\n",
    "def decrypt(d, C):   \n",
    "    M = math.modf(math.fmod((C**d), math.inf))[1]    # I choose an infinite number as my n, because I found out that the n on the decrypt function means limit of the decrypted number. math.fmod is to perform mod operations between a decimal and a float. math.modf reuturns the integer part of the number\n",
    "    return(M)\n",
    "\n",
    "print(q, p)     #print the two prime numbers being used\n",
    "\n",
    "M = 20       #M will be our message for encrypting and tesing\n",
    "if(M != decrypt(encrypt(M)[1],encrypt(M)[0])):      #when M is not equal to the decryption message then print \"Not again\"\n",
    "    print('Not again!')\n",
    "if(M == decrypt(encrypt(M)[1],encrypt(M)[0])):      #when M is equal to the decrypted message then print \"Finally\"\n",
    "    print('Finally!')\n",
    "\n",
    "print(f'Your message is: {decrypt(encrypt(M)[1],encrypt(M)[0])}')"
   ]
  }
 ],
 "metadata": {
  "kernelspec": {
   "display_name": "Python 3",
   "language": "python",
   "name": "python3"
  },
  "language_info": {
   "codemirror_mode": {
    "name": "ipython",
    "version": 3
   },
   "file_extension": ".py",
   "mimetype": "text/x-python",
   "name": "python",
   "nbconvert_exporter": "python",
   "pygments_lexer": "ipython3",
   "version": "3.11.7"
  }
 },
 "nbformat": 4,
 "nbformat_minor": 2
}

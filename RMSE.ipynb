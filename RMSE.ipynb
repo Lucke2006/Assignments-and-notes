{
 "cells": [
  {
   "cell_type": "code",
   "execution_count": 6,
   "metadata": {},
   "outputs": [
    {
     "name": "stdout",
     "output_type": "stream",
     "text": [
      "66.59750435670934 [[19 54 61 ...  0  0  0]\n",
      " [20 50 44 ...  0  0  0]\n",
      " [26 62 63 ...  0  0  0]\n",
      " ...\n",
      " [20 45 55 ...  0  0  0]\n",
      " [24 64 74 ...  0  0  0]\n",
      " [36 75 82 ...  0  0  0]]\n"
     ]
    }
   ],
   "source": [
    "import cv2\n",
    "import numpy as np\n",
    "\n",
    "img1 = cv2.imread(r'C:\\Vscode\\Jupyter Notebook\\W13 L1\\Image1.jpg')\n",
    "img2 = cv2.imread(r'C:\\Vscode\\Jupyter Notebook\\W13 L1\\Image2.jpg')\n",
    "\n",
    "img1 = cv2.cvtColor(img1, cv2.COLOR_BGR2GRAY)\n",
    "img2 = cv2.cvtColor(img2, cv2.COLOR_BGR2GRAY)\n",
    "\n",
    "\n",
    "def mse(img1 , img2):\n",
    "    h, w = img1.shape\n",
    "    diff = cv2.subtract(img1, img2)\n",
    "    err = np.sum(diff**2)\n",
    "    mse = err/(float(h*w))\n",
    "    return mse,diff\n",
    "\n",
    "error, diff = mse(img1, img2)\n",
    "print(error,diff) "
   ]
  }
 ],
 "metadata": {
  "kernelspec": {
   "display_name": "Python 3",
   "language": "python",
   "name": "python3"
  },
  "language_info": {
   "codemirror_mode": {
    "name": "ipython",
    "version": 3
   },
   "file_extension": ".py",
   "mimetype": "text/x-python",
   "name": "python",
   "nbconvert_exporter": "python",
   "pygments_lexer": "ipython3",
   "version": "3.11.7"
  }
 },
 "nbformat": 4,
 "nbformat_minor": 2
}

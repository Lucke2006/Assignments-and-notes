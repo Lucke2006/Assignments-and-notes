{
 "cells": [
  {
   "cell_type": "code",
   "execution_count": 2,
   "metadata": {},
   "outputs": [
    {
     "name": "stdout",
     "output_type": "stream",
     "text": [
      "0.3333333333333333 3\n",
      "0.3333333333333333 3\n"
     ]
    },
    {
     "data": {
      "text/plain": [
       "(216, 'Your message is 6')"
      ]
     },
     "execution_count": 2,
     "metadata": {},
     "output_type": "execute_result"
    }
   ],
   "source": [
    "#Final 2\n",
    "import math\n",
    "from math import gcd\n",
    "\n",
    "def phi(n):\n",
    "    amount = 0\n",
    "    for k in range(1, n + 1):\n",
    "        if gcd(n, k) == 1:\n",
    "            amount += 1\n",
    "    return amount\n",
    "\n",
    "def encrypt(M):\n",
    "    n = 2*5     #Q and P are predefined\n",
    "    l = list(range(2, (phi(n))))\n",
    "    for x in l:     #The followig for loop is used to find a number that has a gcd of 1 and is also in the dfined range\n",
    "        if(gcd(phi(n), x) == 1):\n",
    "            e = x\n",
    "    d = (e**(-1)) % (phi(n))\n",
    "    C = (M**e)\n",
    "    print(d, e) #testing values\n",
    "    return(C)   #return value of C to be later used(only because of testing)\n",
    "\n",
    "def decrypt(d, C):   \n",
    "    M = math.ceil((C**d) % math.inf)    # I choose an infinite number as my n, because I found out that the n on the decrypt function means limit of the decrypted number\n",
    "    return(f\"Your message is {M}\")\n",
    "\n",
    "\n",
    "encrypt(6), decrypt(0.3333333333333333,encrypt(6))"
   ]
  }
 ],
 "metadata": {
  "kernelspec": {
   "display_name": "Python 3",
   "language": "python",
   "name": "python3"
  },
  "language_info": {
   "codemirror_mode": {
    "name": "ipython",
    "version": 3
   },
   "file_extension": ".py",
   "mimetype": "text/x-python",
   "name": "python",
   "nbconvert_exporter": "python",
   "pygments_lexer": "ipython3",
   "version": "3.11.6"
  }
 },
 "nbformat": 4,
 "nbformat_minor": 2
}

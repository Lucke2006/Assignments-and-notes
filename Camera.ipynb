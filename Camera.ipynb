{
 "cells": [
  {
   "cell_type": "code",
   "execution_count": 3,
   "metadata": {},
   "outputs": [],
   "source": [
    "import cv2\n",
    "path = r\"C:\\Vscode\\Jupyter Notebook\\W12 L1\\test_image1.jpg\"\n",
    "image = cv2.imread(path)\n",
    "window_name = 'image'\n",
    "cv2.imshow(window_name, image)\n",
    "cv2.waitKey(0)\n",
    "cv2.destroyAllWindows()"
   ]
  },
  {
   "cell_type": "code",
   "execution_count": 2,
   "metadata": {},
   "outputs": [
    {
     "data": {
      "text/plain": [
       "array([[[ 9, 17,  6],\n",
       "        [ 9, 17,  6],\n",
       "        [ 9, 17,  6],\n",
       "        ...,\n",
       "        [10, 18,  7],\n",
       "        [10, 18,  7],\n",
       "        [10, 18,  7]],\n",
       "\n",
       "       [[ 9, 17,  6],\n",
       "        [ 9, 17,  6],\n",
       "        [ 9, 17,  6],\n",
       "        ...,\n",
       "        [10, 18,  7],\n",
       "        [10, 18,  7],\n",
       "        [10, 18,  7]],\n",
       "\n",
       "       [[ 9, 17,  6],\n",
       "        [ 9, 17,  6],\n",
       "        [ 9, 17,  6],\n",
       "        ...,\n",
       "        [10, 18,  7],\n",
       "        [10, 18,  7],\n",
       "        [10, 18,  7]],\n",
       "\n",
       "       ...,\n",
       "\n",
       "       [[10, 14,  3],\n",
       "        [12, 16,  5],\n",
       "        [ 9, 13,  1],\n",
       "        ...,\n",
       "        [21, 22,  6],\n",
       "        [15, 16,  0],\n",
       "        [18, 19,  3]],\n",
       "\n",
       "       [[ 9, 13,  1],\n",
       "        [11, 15,  3],\n",
       "        [ 7, 11,  0],\n",
       "        ...,\n",
       "        [16, 16,  2],\n",
       "        [13, 13,  0],\n",
       "        [25, 25, 11]],\n",
       "\n",
       "       [[ 4,  8,  0],\n",
       "        [ 8, 12,  0],\n",
       "        [ 5,  9,  0],\n",
       "        ...,\n",
       "        [13, 13,  0],\n",
       "        [13, 13,  0],\n",
       "        [33, 33, 19]]], dtype=uint8)"
      ]
     },
     "execution_count": 2,
     "metadata": {},
     "output_type": "execute_result"
    }
   ],
   "source": [
    "import cv2\n",
    "path = r\"C:\\Vscode\\Jupyter Notebook\\W12 L1\\test_image1.jpg\"\n",
    "image = cv2.imread(path)\n",
    "image"
   ]
  },
  {
   "cell_type": "code",
   "execution_count": 2,
   "metadata": {},
   "outputs": [],
   "source": [
    "import cv2 as cv\n",
    "import numpy as np\n",
    "\n",
    "cap = cv.VideoCapture(0)\n",
    "if not cap.isOpened():\n",
    "    print('Cannot open Camera')\n",
    "    exit()\n",
    "while True:\n",
    "    #Capture frame by frame\n",
    "    ret, frame = cap.read()\n",
    "    #if frame is read correctly ret is True\n",
    "    if not ret:\n",
    "        print('Cant receive frame (stream end?). Exiting ...')\n",
    "        break\n",
    "    # Our operations on the frame come here\n",
    "    bgr = cv.cvtColor(frame, cv.COLOR_BGR2BGRA)\n",
    "    #Display the resulting frame\n",
    "    cv.imshow('frame', bgr)\n",
    "    if cv.waitKey(1) == ord('k'):\n",
    "        break\n",
    "#when everything is done, release the capture\n",
    "\n",
    "cap.release()\n",
    "cv.destroyAllWindows()"
   ]
  }
 ],
 "metadata": {
  "kernelspec": {
   "display_name": "Python 3",
   "language": "python",
   "name": "python3"
  },
  "language_info": {
   "codemirror_mode": {
    "name": "ipython",
    "version": 3
   },
   "file_extension": ".py",
   "mimetype": "text/x-python",
   "name": "python",
   "nbconvert_exporter": "python",
   "pygments_lexer": "ipython3",
   "version": "3.11.6"
  }
 },
 "nbformat": 4,
 "nbformat_minor": 2
}

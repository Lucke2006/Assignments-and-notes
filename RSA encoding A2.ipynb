{
 "cells": [
  {
   "cell_type": "code",
   "execution_count": 20,
   "metadata": {},
   "outputs": [
    {
     "ename": "NameError",
     "evalue": "name 'q' is not defined",
     "output_type": "error",
     "traceback": [
      "\u001b[1;31m---------------------------------------------------------------------------\u001b[0m",
      "\u001b[1;31mNameError\u001b[0m                                 Traceback (most recent call last)",
      "\u001b[1;32mc:\\Vscode\\Jupyter Notebook\\W13 L1\\RSA encoding A2.ipynb Cell 1\u001b[0m line \u001b[0;36m4\n\u001b[0;32m     <a href='vscode-notebook-cell:/c%3A/Vscode/Jupyter%20Notebook/W13%20L1/RSA%20encoding%20A2.ipynb#W0sZmlsZQ%3D%3D?line=43'>44</a>\u001b[0m     M \u001b[39m=\u001b[39m math\u001b[39m.\u001b[39mmodf(math\u001b[39m.\u001b[39mfmod((C\u001b[39m*\u001b[39m\u001b[39m*\u001b[39md), math\u001b[39m.\u001b[39minf))[\u001b[39m1\u001b[39m]    \u001b[39m# I choose an infinite number as my n, because I found out that the n on the decrypt function means limit of the decrypted number. math.fmod is to perform mod operations between a decimal and a float. math.modf reuturns the integer part of the number\u001b[39;00m\n\u001b[0;32m     <a href='vscode-notebook-cell:/c%3A/Vscode/Jupyter%20Notebook/W13%20L1/RSA%20encoding%20A2.ipynb#W0sZmlsZQ%3D%3D?line=44'>45</a>\u001b[0m     \u001b[39mreturn\u001b[39;00m(\u001b[39mf\u001b[39m\u001b[39m\"\u001b[39m\u001b[39mYour message is \u001b[39m\u001b[39m{\u001b[39;00mM\u001b[39m}\u001b[39;00m\u001b[39m\"\u001b[39m)\n\u001b[1;32m---> <a href='vscode-notebook-cell:/c%3A/Vscode/Jupyter%20Notebook/W13%20L1/RSA%20encoding%20A2.ipynb#W0sZmlsZQ%3D%3D?line=46'>47</a>\u001b[0m encrypt(\u001b[39m10\u001b[39;49m), decrypt(encrypt(\u001b[39m10\u001b[39m)[\u001b[39m1\u001b[39m],encrypt(\u001b[39m10\u001b[39m)[\u001b[39m0\u001b[39m])\n",
      "\u001b[1;32mc:\\Vscode\\Jupyter Notebook\\W13 L1\\RSA encoding A2.ipynb Cell 1\u001b[0m line \u001b[0;36m3\n\u001b[0;32m     <a href='vscode-notebook-cell:/c%3A/Vscode/Jupyter%20Notebook/W13%20L1/RSA%20encoding%20A2.ipynb#W0sZmlsZQ%3D%3D?line=30'>31</a>\u001b[0m \u001b[39mdef\u001b[39;00m \u001b[39mencrypt\u001b[39m(M):\n\u001b[1;32m---> <a href='vscode-notebook-cell:/c%3A/Vscode/Jupyter%20Notebook/W13%20L1/RSA%20encoding%20A2.ipynb#W0sZmlsZQ%3D%3D?line=31'>32</a>\u001b[0m     n \u001b[39m=\u001b[39m p\u001b[39m*\u001b[39mq     \u001b[39m#Q and P are defined by the while loops above, and they are both prime numbers\u001b[39;00m\n\u001b[0;32m     <a href='vscode-notebook-cell:/c%3A/Vscode/Jupyter%20Notebook/W13%20L1/RSA%20encoding%20A2.ipynb#W0sZmlsZQ%3D%3D?line=32'>33</a>\u001b[0m     l \u001b[39m=\u001b[39m \u001b[39mlist\u001b[39m(\u001b[39mrange\u001b[39m(\u001b[39m2\u001b[39m, (phi(n))))\n\u001b[0;32m     <a href='vscode-notebook-cell:/c%3A/Vscode/Jupyter%20Notebook/W13%20L1/RSA%20encoding%20A2.ipynb#W0sZmlsZQ%3D%3D?line=33'>34</a>\u001b[0m     \u001b[39mfor\u001b[39;00m x \u001b[39min\u001b[39;00m l:     \u001b[39m#The followig for loop is used to find a number that has a gcd of 1 and is also in the dfined range\u001b[39;00m\n",
      "\u001b[1;31mNameError\u001b[0m: name 'q' is not defined"
     ]
    }
   ],
   "source": [
    "#Final 3\n",
    "import math\n",
    "from math import gcd\n",
    "from decimal import Decimal\n",
    "import random\n",
    "\n",
    "def is_prime(n):        #this function will test if the value of q and p is a prime number, if not then it will find another one\n",
    "    if n <= 1:\n",
    "        return False\n",
    "    for i in range(2, int(n ** 0.5) + 1):\n",
    "        if n % i == 0:\n",
    "            return False\n",
    "    return True\n",
    "\n",
    "x1 = random.randint(1,100)      #x1 is a random number between 1-100 that will be used to determine p\n",
    "y1 = random.randint(1,100)      #y1 is the same as x1 but it will be used to determine q\n",
    "while is_prime(x1) == 1:        #while loop that finds a prime value for p\n",
    "    p = x1\n",
    "    break\n",
    "while is_prime(y1) == 1:        #while loop that finds a prime value for q\n",
    "    q = y1\n",
    "    break\n",
    "\n",
    "def phi(n):     #FUnction that finds the totient of n\n",
    "    amount = 0\n",
    "    for k in range(1, n + 1):\n",
    "        if gcd(n, k) == 1:\n",
    "            amount += 1\n",
    "    return amount\n",
    "\n",
    "def encrypt(M):\n",
    "    n = p*q     #Q and P are defined by the while loops above, and they are both prime numbers\n",
    "    l = list(range(2, (phi(n))))\n",
    "    for x in l:     #The followig for loop is used to find a number that has a gcd of 1 and is also in the dfined range\n",
    "        if(gcd(phi(n), x) == 1):\n",
    "            e = x\n",
    "    d1 = (e**(-1)) % (phi(n))\n",
    "    d = Decimal(d1)         #I imported the decimal library and turned d into a decimal data type which can hold more decimals than a float\n",
    "    C1 = (M**e)\n",
    "    C = Decimal(C1)\n",
    "    return(C, d)   #return value of C to be later used(only because of testing)\n",
    "\n",
    "def decrypt(d, C):   \n",
    "    M = math.modf(math.fmod((C**d), math.inf))[1]    # I choose an infinite number as my n, because I found out that the n on the decrypt function means limit of the decrypted number. math.fmod is to perform mod operations between a decimal and a float. math.modf reuturns the integer part of the number\n",
    "    return(f\"Your message is {M}\")\n",
    "print(p, q)\n",
    "\n",
    "encrypt(10), decrypt(encrypt(10)[1],encrypt(10)[0])"
   ]
  },
  {
   "cell_type": "code",
   "execution_count": 17,
   "metadata": {},
   "outputs": [
    {
     "name": "stdout",
     "output_type": "stream",
     "text": [
      "73\n"
     ]
    }
   ],
   "source": [
    "import random\n",
    "x = random.randint(1,100)\n",
    "print(x)"
   ]
  },
  {
   "cell_type": "code",
   "execution_count": 53,
   "metadata": {},
   "outputs": [
    {
     "name": "stdout",
     "output_type": "stream",
     "text": [
      "73\n",
      "3\n"
     ]
    }
   ],
   "source": [
    "import random\n",
    "def is_prime(n):\n",
    "    if n <= 1:\n",
    "        return False\n",
    "    for i in range(2, int(n ** 0.5) + 1):\n",
    "        if n % i == 0:\n",
    "            return False\n",
    "    return True\n",
    "\n",
    "e = random.randint(1,100)\n",
    "d = random.randint(1,100)\n",
    "while is_prime(d) == 1:\n",
    "    x = d\n",
    "    print(x)\n",
    "    break\n",
    "while is_prime(e) == 1:\n",
    "    y = e\n",
    "    print(y)\n",
    "    break"
   ]
  },
  {
   "cell_type": "code",
   "execution_count": 7,
   "metadata": {},
   "outputs": [
    {
     "name": "stdout",
     "output_type": "stream",
     "text": [
      "32\n"
     ]
    }
   ],
   "source": [
    "import random\n",
    "x= random.randint(1,100)\n",
    "print(x)"
   ]
  },
  {
   "cell_type": "code",
   "execution_count": 73,
   "metadata": {},
   "outputs": [
    {
     "data": {
      "text/plain": [
       "True"
      ]
     },
     "execution_count": 73,
     "metadata": {},
     "output_type": "execute_result"
    }
   ],
   "source": [
    "def is_prime(n):\n",
    "    if n <= 1:\n",
    "        return False\n",
    "    for i in range(2, int(n ** 0.5) + 1):\n",
    "        if n % i == 0:\n",
    "            return False\n",
    "    return True\n",
    "\n",
    "is_prime(3)"
   ]
  },
  {
   "cell_type": "code",
   "execution_count": 67,
   "metadata": {},
   "outputs": [
    {
     "name": "stdout",
     "output_type": "stream",
     "text": [
      "7 6\n"
     ]
    }
   ],
   "source": [
    "def t(n):\n",
    "    x = n+1\n",
    "    y = n+2\n",
    "    return (x, y)\n",
    "\n",
    "print(t(5)[1], t(5)[0])"
   ]
  },
  {
   "cell_type": "code",
   "execution_count": 114,
   "metadata": {},
   "outputs": [
    {
     "name": "stdout",
     "output_type": "stream",
     "text": [
      "<function p at 0x000002844462F880> <function q at 0x00000284442CC220>\n"
     ]
    },
    {
     "ename": "UnboundLocalError",
     "evalue": "cannot access local variable 'q' where it is not associated with a value",
     "output_type": "error",
     "traceback": [
      "\u001b[1;31m---------------------------------------------------------------------------\u001b[0m",
      "\u001b[1;31mUnboundLocalError\u001b[0m                         Traceback (most recent call last)",
      "\u001b[1;32mc:\\Vscode\\Jupyter Notebook\\W13 L1\\RSA encoding A2.ipynb Cell 7\u001b[0m line \u001b[0;36m5\n\u001b[0;32m     <a href='vscode-notebook-cell:/c%3A/Vscode/Jupyter%20Notebook/W13%20L1/RSA%20encoding%20A2.ipynb#W6sZmlsZQ%3D%3D?line=55'>56</a>\u001b[0m     \u001b[39mreturn\u001b[39;00m(\u001b[39mf\u001b[39m\u001b[39m\"\u001b[39m\u001b[39mYour message is \u001b[39m\u001b[39m{\u001b[39;00mM\u001b[39m}\u001b[39;00m\u001b[39m\"\u001b[39m)\n\u001b[0;32m     <a href='vscode-notebook-cell:/c%3A/Vscode/Jupyter%20Notebook/W13%20L1/RSA%20encoding%20A2.ipynb#W6sZmlsZQ%3D%3D?line=56'>57</a>\u001b[0m \u001b[39mprint\u001b[39m(p, q)\n\u001b[1;32m---> <a href='vscode-notebook-cell:/c%3A/Vscode/Jupyter%20Notebook/W13%20L1/RSA%20encoding%20A2.ipynb#W6sZmlsZQ%3D%3D?line=58'>59</a>\u001b[0m encrypt(\u001b[39m0\u001b[39;49m), decrypt(encrypt(\u001b[39m0\u001b[39m)[\u001b[39m1\u001b[39m],encrypt(\u001b[39m0\u001b[39m)[\u001b[39m0\u001b[39m])\n",
      "\u001b[1;32mc:\\Vscode\\Jupyter Notebook\\W13 L1\\RSA encoding A2.ipynb Cell 7\u001b[0m line \u001b[0;36m4\n\u001b[0;32m     <a href='vscode-notebook-cell:/c%3A/Vscode/Jupyter%20Notebook/W13%20L1/RSA%20encoding%20A2.ipynb#W6sZmlsZQ%3D%3D?line=41'>42</a>\u001b[0m \u001b[39mdef\u001b[39;00m \u001b[39mencrypt\u001b[39m(M):\n\u001b[1;32m---> <a href='vscode-notebook-cell:/c%3A/Vscode/Jupyter%20Notebook/W13%20L1/RSA%20encoding%20A2.ipynb#W6sZmlsZQ%3D%3D?line=42'>43</a>\u001b[0m     n \u001b[39m=\u001b[39m q_p()[\u001b[39m0\u001b[39m]\u001b[39m*\u001b[39mq_p()[\u001b[39m1\u001b[39m]     \u001b[39m#Q and P are defined by the while loops above, and they are both prime numbers\u001b[39;00m\n\u001b[0;32m     <a href='vscode-notebook-cell:/c%3A/Vscode/Jupyter%20Notebook/W13%20L1/RSA%20encoding%20A2.ipynb#W6sZmlsZQ%3D%3D?line=43'>44</a>\u001b[0m     l \u001b[39m=\u001b[39m \u001b[39mlist\u001b[39m(\u001b[39mrange\u001b[39m(\u001b[39m2\u001b[39m, (phi(n))))\n\u001b[0;32m     <a href='vscode-notebook-cell:/c%3A/Vscode/Jupyter%20Notebook/W13%20L1/RSA%20encoding%20A2.ipynb#W6sZmlsZQ%3D%3D?line=44'>45</a>\u001b[0m     \u001b[39mfor\u001b[39;00m x \u001b[39min\u001b[39;00m l:     \u001b[39m#The followig for loop is used to find a number that has a gcd of 1 and is also in the dfined range\u001b[39;00m\n",
      "\u001b[1;32mc:\\Vscode\\Jupyter Notebook\\W13 L1\\RSA encoding A2.ipynb Cell 7\u001b[0m line \u001b[0;36m3\n\u001b[0;32m     <a href='vscode-notebook-cell:/c%3A/Vscode/Jupyter%20Notebook/W13%20L1/RSA%20encoding%20A2.ipynb#W6sZmlsZQ%3D%3D?line=30'>31</a>\u001b[0m         q \u001b[39m=\u001b[39m y1\n\u001b[0;32m     <a href='vscode-notebook-cell:/c%3A/Vscode/Jupyter%20Notebook/W13%20L1/RSA%20encoding%20A2.ipynb#W6sZmlsZQ%3D%3D?line=31'>32</a>\u001b[0m     \u001b[39mbreak\u001b[39;00m\n\u001b[1;32m---> <a href='vscode-notebook-cell:/c%3A/Vscode/Jupyter%20Notebook/W13%20L1/RSA%20encoding%20A2.ipynb#W6sZmlsZQ%3D%3D?line=32'>33</a>\u001b[0m \u001b[39mreturn\u001b[39;00m(q, p)\n",
      "\u001b[1;31mUnboundLocalError\u001b[0m: cannot access local variable 'q' where it is not associated with a value"
     ]
    }
   ],
   "source": [
    "import math\n",
    "from math import gcd\n",
    "from decimal import Decimal\n",
    "import random\n",
    "import time\n",
    "\n",
    "def current_milli_time():\n",
    "    return round(time.time() * 1000)\n",
    "\n",
    "random.seed(current_milli_time())\n",
    "\n",
    "def is_prime(n):        #this function will test if the value of q and p is a prime number, if not then it will find another one\n",
    "    if n <= 1:\n",
    "        return False\n",
    "    for i in range(2, int(n ** 0.5) + 1):\n",
    "        if n % i == 0:\n",
    "            return False\n",
    "    return True\n",
    "\n",
    "def q_p():\n",
    "    x1 = random.randint(1, 100)      #x1 is a random number between 1-100 that will be used to determine p\n",
    "    y1 = random.randint(1, 100)      #y1 is the same as x1 but it will be used to determine q\n",
    "    while(is_prime(x1) == 1) and (is_prime(y1) == 1):\n",
    "        if(x1 == y1):\n",
    "            while(x1 != y1):\n",
    "                p = x1\n",
    "                q = y1\n",
    "                break\n",
    "        if(x1 != y1):\n",
    "            p = x1\n",
    "            q = y1\n",
    "        break\n",
    "    return(q, p)          \n",
    "\n",
    "def phi(n):     #FUnction that finds the totient of n\n",
    "    amount = 0\n",
    "    for k in range(1, n + 1):\n",
    "        if gcd(n, k) == 1:\n",
    "            amount += 1\n",
    "    return amount\n",
    "\n",
    "def encrypt(M):\n",
    "    n = q_p()[0]*q_p()[1]     #Q and P are defined by the while loops above, and they are both prime numbers\n",
    "    l = list(range(2, (phi(n))))\n",
    "    for x in l:     #The followig for loop is used to find a number that has a gcd of 1 and is also in the dfined range\n",
    "        if(gcd(phi(n), x) == 1):\n",
    "            e = x\n",
    "    d1 = (e**(-1)) % (phi(n))\n",
    "    d = Decimal(d1)         #I imported the decimal library and turned d into a decimal data type which can hold more decimals than a float\n",
    "    C1 = (M**e)\n",
    "    C = Decimal(C1)\n",
    "    return(C, d)   #return value of C to be later used(only because of testing)\n",
    "\n",
    "def decrypt(d, C):   \n",
    "    M = math.modf(math.fmod((C**d), math.inf))[1]    # I choose an infinite number as my n, because I found out that the n on the decrypt function means limit of the decrypted number. math.fmod is to perform mod operations between a decimal and a float. math.modf reuturns the integer part of the number\n",
    "    return(f\"Your message is {M}\")\n",
    "print(p, q)\n",
    "\n",
    "encrypt(0), decrypt(encrypt(0)[1],encrypt(0)[0])"
   ]
  },
  {
   "cell_type": "code",
   "execution_count": 214,
   "metadata": {},
   "outputs": [
    {
     "name": "stdout",
     "output_type": "stream",
     "text": [
      "2023-11-29 14:24:53.602355\n"
     ]
    }
   ],
   "source": [
    "import datetime\n",
    "\n",
    "print(datetime.datetime.now())\n",
    "print(datetime.datetime.now())"
   ]
  },
  {
   "cell_type": "code",
   "execution_count": 242,
   "metadata": {},
   "outputs": [
    {
     "data": {
      "text/plain": [
       "3"
      ]
     },
     "execution_count": 242,
     "metadata": {},
     "output_type": "execute_result"
    }
   ],
   "source": [
    "import time\n",
    "\n",
    "def current_milli_time():\n",
    "    return round(time.time() * 1000)\n",
    "\n",
    "random.seed(current_milli_time())\n",
    "random.randint(1, 100)"
   ]
  },
  {
   "cell_type": "markdown",
   "metadata": {},
   "source": [
    "import time\n",
    "\n",
    "def current_milli_time():\n",
    "return round(time.time() * 1000)"
   ]
  },
  {
   "cell_type": "code",
   "execution_count": 82,
   "metadata": {},
   "outputs": [
    {
     "name": "stdout",
     "output_type": "stream",
     "text": [
      "79 73\n",
      "Finally!\n",
      "Your message is: 0.0\n"
     ]
    }
   ],
   "source": [
    "import math\n",
    "from math import gcd\n",
    "from decimal import Decimal\n",
    "import random\n",
    "import time\n",
    "\n",
    "def current_milli_time():\n",
    "    return round(time.time() * 1000)\n",
    "\n",
    "random.seed(current_milli_time())\n",
    "\n",
    "def is_prime(n):        #this function will test if the value of q and p is a prime number, if not then it will find another one\n",
    "    if n <= 1:\n",
    "        return False\n",
    "    for i in range(2, int(n ** 0.5) + 1):\n",
    "        if n % i == 0:\n",
    "            return False\n",
    "    return True\n",
    "\n",
    "def q_p():\n",
    "    while True:\n",
    "        x1 = random.randint(1, 100)      #x1 is a random number between 1-100 that will be used to determine p\n",
    "        y1 = random.randint(1, 100)      #y1 is the same as x1 but it will be used to determine q\n",
    "        if(is_prime(x1) == 1) and (is_prime(y1) == 1):\n",
    "            break\n",
    "    if(x1 == y1):\n",
    "        while(x1 != y1):\n",
    "            p = x1\n",
    "            q = y1\n",
    "            break\n",
    "    if(x1 != y1):\n",
    "        p = x1\n",
    "        q = y1\n",
    "    return(q, p)\n",
    "\n",
    "q = q_p()[0]\n",
    "p = q_p()[1]          \n",
    "\n",
    "def phi(n):     #FUnction that finds the totient of n\n",
    "    amount = 0\n",
    "    for k in range(1, n + 1):\n",
    "        if gcd(n, k) == 1:\n",
    "            amount += 1\n",
    "    return amount\n",
    "\n",
    "def encrypt(M):\n",
    "    n = q*p     #Q and P are defined by the while loops above, and they are both prime numbers\n",
    "    l = list(range(2, (phi(n))))\n",
    "    for x in l:     #The followig for loop is used to find a number that has a gcd of 1 and is also in the dfined range\n",
    "        if(gcd(phi(n), x) == 1):\n",
    "            e = x\n",
    "    d1 = (e**(-1)) % (phi(n))\n",
    "    d = Decimal(d1)         #I imported the decimal library and turned d into a decimal data type which can hold more decimals than a float\n",
    "    C1 = (M**e)\n",
    "    C = Decimal(C1)\n",
    "    return(C, d)   #return value of C to be later used(only because of testing)\n",
    "\n",
    "def decrypt(d, C):   \n",
    "    M = math.modf(math.fmod((C**d), math.inf))[1]    # I choose an infinite number as my n, because I found out that the n on the decrypt function means limit of the decrypted number. math.fmod is to perform mod operations between a decimal and a float. math.modf reuturns the integer part of the number\n",
    "    return(M)\n",
    "\n",
    "print(q, p)\n",
    "\n",
    "M = 0\n",
    "if(M != decrypt(encrypt(M)[1],encrypt(M)[0])):\n",
    "    print('Not again!')\n",
    "if(M == decrypt(encrypt(M)[1],encrypt(M)[0])):\n",
    "    print('Finally!')\n",
    "\n",
    "print(f'Your message is: {decrypt(encrypt(M)[1],encrypt(M)[0])}')"
   ]
  },
  {
   "cell_type": "code",
   "execution_count": 42,
   "metadata": {},
   "outputs": [
    {
     "name": "stdout",
     "output_type": "stream",
     "text": [
      "6\n"
     ]
    }
   ],
   "source": [
    "while 9 > 8:\n",
    "    p = 6\n",
    "    break\n",
    "\n",
    "print(p)"
   ]
  },
  {
   "cell_type": "code",
   "execution_count": 72,
   "metadata": {},
   "outputs": [
    {
     "name": "stdout",
     "output_type": "stream",
     "text": [
      "43\n"
     ]
    }
   ],
   "source": [
    "import random\n",
    "import time\n",
    "\n",
    "def is_prime(n):        #this function will test if the value of q and p is a prime number, if not then it will find another one\n",
    "    if n <= 1:\n",
    "        return False\n",
    "    for i in range(2, int(n ** 0.5) + 1):\n",
    "        if n % i == 0:\n",
    "            return False\n",
    "    return True\n",
    "\n",
    "def current_milli_time():\n",
    "    return round(time.time() * 1000)\n",
    "\n",
    "random.seed(current_milli_time())\n",
    "\n",
    "while True:   \n",
    "    x1 = random.randint(1, 100)\n",
    "    if is_prime(x1) == 1:\n",
    "        break\n",
    "\n",
    "print(x1)"
   ]
  },
  {
   "cell_type": "code",
   "execution_count": 103,
   "metadata": {},
   "outputs": [
    {
     "name": "stdout",
     "output_type": "stream",
     "text": [
      "Your message is 7\n"
     ]
    }
   ],
   "source": [
    "def p():\n",
    "    if 6 > 3:\n",
    "        return(7)\n",
    "\n",
    "def q():\n",
    "    if 6 > 3:\n",
    "        return('Your message is', 6)\n",
    "\n",
    "print(f'Your message is {p()}')"
   ]
  }
 ],
 "metadata": {
  "kernelspec": {
   "display_name": "Python 3",
   "language": "python",
   "name": "python3"
  },
  "language_info": {
   "codemirror_mode": {
    "name": "ipython",
    "version": 3
   },
   "file_extension": ".py",
   "mimetype": "text/x-python",
   "name": "python",
   "nbconvert_exporter": "python",
   "pygments_lexer": "ipython3",
   "version": "3.11.7"
  }
 },
 "nbformat": 4,
 "nbformat_minor": 2
}

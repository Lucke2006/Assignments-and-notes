{
 "cells": [
  {
   "cell_type": "code",
   "execution_count": null,
   "metadata": {},
   "outputs": [],
   "source": [
    "'''\n",
    "\n",
    "Name: Jose Garcia\n",
    "Class: CSC106\n",
    "HW#: extra credit week 8\n",
    "QN: 1\n",
    "Date: 11/03/2023\n",
    "\n",
    "''' "
   ]
  },
  {
   "cell_type": "code",
   "execution_count": 1,
   "metadata": {},
   "outputs": [
    {
     "name": "stdout",
     "output_type": "stream",
     "text": [
      "The grades have to be finals\n",
      "Final Grade:\n",
      "89.3 your grade is B+\n"
     ]
    }
   ],
   "source": [
    "print('The grades have to be finals')\n",
    "Class_Attendance = float(input('Class attendance:')) #float inputs for every score, the scores are the final scores corresponding to the section\n",
    "Quizzes = float(input('Quizzes:'))\n",
    "Lab_Assignments = float(input('Lab Assignments:'))\n",
    "Programming_Asssignments = float(input('Programming Assignments:'))\n",
    "Exams = float(input('Exams:'))\n",
    "\n",
    "print('Final Grade:')\n",
    "grades = ['A', 'A-', 'B+', 'B', 'B-', 'C+', 'C', 'C-', 'D+', 'D', 'D-', 'F'] #all the letters for the grades are in a list so that I can refer to them in the code\n",
    "fin_gra = Class_Attendance * 0.1 + Quizzes * 0.15 + Lab_Assignments * 0.15 + Programming_Asssignments * 0.30 + Exams * 0.30 #the final grade for CSC106 will equal to this operation\n",
    "if(90 <= fin_gra <= 100): #the next lines of code determine what letter corresponds to the final score, by doing if statements with parameters\n",
    "    if(fin_gra < 92):\n",
    "        grade = grades[1]\n",
    "    elif(fin_gra > 92):\n",
    "        grade = grades[0]\n",
    "if(80 <= fin_gra < 90):\n",
    "    if(fin_gra < 82):\n",
    "        grade = grades[4]\n",
    "    elif(82 <= fin_gra < 88):\n",
    "        grade = grades[3]\n",
    "    elif(88 <= fin_gra):\n",
    "        grade = grades[2]\n",
    "if(70 <= fin_gra < 80):\n",
    "    if(fin_gra < 72):\n",
    "        grade = grades[7]\n",
    "    elif(72 <= fin_gra < 78):\n",
    "        grade = grades[6]\n",
    "    elif(78 <= fin_gra):\n",
    "        grade = grades[5]\n",
    "if(60 <= fin_gra < 70):\n",
    "    if(fin_gra < 62):\n",
    "        grade = grades[10]\n",
    "    elif(62 <= fin_gra < 68):\n",
    "        grade = grades[9]\n",
    "    elif(68 <= fin_gra):\n",
    "        grade = grades[8]\n",
    "if(fin_gra < 60):\n",
    "    grade = grades[11]\n",
    "print(fin_gra, 'your grade is', grade) #the output will be the final grade in numbers and in letters"
   ]
  }
 ],
 "metadata": {
  "kernelspec": {
   "display_name": "Python 3",
   "language": "python",
   "name": "python3"
  },
  "language_info": {
   "codemirror_mode": {
    "name": "ipython",
    "version": 3
   },
   "file_extension": ".py",
   "mimetype": "text/x-python",
   "name": "python",
   "nbconvert_exporter": "python",
   "pygments_lexer": "ipython3",
   "version": "3.11.6"
  }
 },
 "nbformat": 4,
 "nbformat_minor": 2
}

{
 "cells": [
  {
   "cell_type": "code",
   "execution_count": 9,
   "metadata": {},
   "outputs": [
    {
     "data": {
      "text/plain": [
       "'Jose'"
      ]
     },
     "execution_count": 9,
     "metadata": {},
     "output_type": "execute_result"
    },
    {
     "data": {
      "image/png": "[encoded data removed]",
      "text/plain": [
       "<Figure size 640x480 with 1 Axes>"
      ]
     },
     "metadata": {},
     "output_type": "display_data"
    }
   ],
   "source": [
    "import pandas as pd\n",
    "data = {\n",
    "    'Students': ('Jose', 'Tobin', 'Conrad'),\n",
    "    'Grades': [97, 89, 95]\n",
    "}\n",
    "df = pd.DataFrame(data, index = ['Student 1', 'Student 2', 'Student 3'])\n",
    "df.groupby(['Students']).sum().plot(kind = 'pie', y = 'Grades')\n",
    "df\n",
    "df['Students']['Student 1']"
   ]
  },
  {
   "cell_type": "code",
   "execution_count": 8,
   "metadata": {},
   "outputs": [
    {
     "ename": "NameError",
     "evalue": "name 'df' is not defined",
     "output_type": "error",
     "traceback": [
      "\u001b[1;31m---------------------------------------------------------------------------\u001b[0m",
      "\u001b[1;31mNameError\u001b[0m                                 Traceback (most recent call last)",
      "\u001b[1;32mUntitled-1.ipynb Cell 2\u001b[0m line \u001b[0;36m1\n\u001b[1;32m----> <a href='vscode-notebook-cell:Untitled-1.ipynb?jupyter-notebook#X10sdW50aXRsZWQ%3D?line=0'>1</a>\u001b[0m df[\u001b[39m'\u001b[39m\u001b[39mStudents\u001b[39m\u001b[39m'\u001b[39m][\u001b[39m'\u001b[39m\u001b[39mStudent 1\u001b[39m\u001b[39m'\u001b[39m]\n",
      "\u001b[1;31mNameError\u001b[0m: name 'df' is not defined"
     ]
    }
   ],
   "source": [
    "df['Students']['Student 1']"
   ]
  },
  {
   "cell_type": "code",
   "execution_count": 2,
   "metadata": {},
   "outputs": [
    {
     "name": "stdout",
     "output_type": "stream",
     "text": [
      "[50, 60, 93]\n"
     ]
    }
   ],
   "source": [
    "l = [50, 60, 93]\n",
    "t = ('Jose', 'Tobin', 'Conrad')\n",
    "s = {'Jose', 50, 90}\n",
    "for Jose in range(1):\n",
    "    if(t[0] == 'Jose'):\n",
    "        print(l)\n",
    "    \n"
   ]
  },
  {
   "cell_type": "code",
   "execution_count": 4,
   "metadata": {},
   "outputs": [
    {
     "name": "stdout",
     "output_type": "stream",
     "text": [
      "[50, 60, 93]\n"
     ]
    }
   ],
   "source": [
    "i = 0\n",
    "while (i<1):\n",
    "    if(l[0] == int(l[0])):\n",
    "        print(l)\n",
    "    i += 1"
   ]
  },
  {
   "cell_type": "code",
   "execution_count": 7,
   "metadata": {},
   "outputs": [
    {
     "name": "stdout",
     "output_type": "stream",
     "text": [
      "[50, 60, 93]\n"
     ]
    }
   ],
   "source": [
    "for x in ['List']:\n",
    "    if(l[0] == 50):\n",
    "        print(l)"
   ]
  },
  {
   "cell_type": "code",
   "execution_count": 9,
   "metadata": {},
   "outputs": [
    {
     "ename": "KeyError",
     "evalue": "0",
     "output_type": "error",
     "traceback": [
      "\u001b[1;31m---------------------------------------------------------------------------\u001b[0m",
      "\u001b[1;31mKeyError\u001b[0m                                  Traceback (most recent call last)",
      "\u001b[1;32mUntitled-1.ipynb Cell 3\u001b[0m line \u001b[0;36m1\n\u001b[1;32m----> <a href='vscode-notebook-cell:Untitled-1.ipynb?jupyter-notebook#W2sdW50aXRsZWQ%3D?line=0'>1</a>\u001b[0m \u001b[39mwhile\u001b[39;00m s[\u001b[39m0\u001b[39;49m] \u001b[39m==\u001b[39m \u001b[39m50\u001b[39m:\n\u001b[0;32m      <a href='vscode-notebook-cell:Untitled-1.ipynb?jupyter-notebook#W2sdW50aXRsZWQ%3D?line=1'>2</a>\u001b[0m     \u001b[39mprint\u001b[39m(s[\u001b[39m0\u001b[39m])\n\u001b[0;32m      <a href='vscode-notebook-cell:Untitled-1.ipynb?jupyter-notebook#W2sdW50aXRsZWQ%3D?line=2'>3</a>\u001b[0m     s[\u001b[39m0\u001b[39m] \u001b[39m+\u001b[39m\u001b[39m=\u001b[39m \u001b[39m1\u001b[39m\n",
      "\u001b[1;31mKeyError\u001b[0m: 0"
     ]
    }
   ],
   "source": [
    "while s[0] == 50:\n",
    "    print(s[0])\n",
    "    s[0] += 1\n",
    "    \n"
   ]
  },
  {
   "cell_type": "code",
   "execution_count": 4,
   "metadata": {},
   "outputs": [
    {
     "name": "stdout",
     "output_type": "stream",
     "text": [
      "('Jose', 'Tobin', 'Conrad')\n"
     ]
    }
   ],
   "source": [
    "if t[0] == 'Jose':\n",
    "    print(t)"
   ]
  },
  {
   "cell_type": "code",
   "execution_count": 6,
   "metadata": {},
   "outputs": [
    {
     "name": "stdout",
     "output_type": "stream",
     "text": [
      "The first name in tuple isnt Jose\n"
     ]
    }
   ],
   "source": [
    "if t[1] == 'Jose':\n",
    "    print(t)\n",
    "else:\n",
    "    print('The first name in tuple isnt Jose')"
   ]
  },
  {
   "cell_type": "code",
   "execution_count": 1,
   "metadata": {},
   "outputs": [
    {
     "name": "stdout",
     "output_type": "stream",
     "text": [
      "John\n"
     ]
    }
   ],
   "source": [
    "MyClass = ['John', ('John', 106, False), 'John', 106, {'John', 106, False}, False]\n",
    "for x in [1]:\n",
    "    if(('John' in MyClass[4]) == True):\n",
    "        print('John')"
   ]
  },
  {
   "cell_type": "code",
   "execution_count": 11,
   "metadata": {},
   "outputs": [
    {
     "name": "stdout",
     "output_type": "stream",
     "text": [
      "2\n"
     ]
    }
   ],
   "source": [
    "x = 0\n",
    "if(MyClass[0] == 'John'):\n",
    "    x += 1\n",
    "if('John' in range(len(MyClass[1]))):\n",
    "    x += 1\n",
    "if(MyClass[2] == 'John'):\n",
    "    x += 1\n",
    "if(('John' in MyClass[3]) == True):\n",
    "    x += 1\n",
    "if(MyClass[4] == 'John'):\n",
    "    x += 1\n",
    "print(x)"
   ]
  },
  {
   "cell_type": "code",
   "execution_count": 47,
   "metadata": {},
   "outputs": [
    {
     "ename": "IndentationError",
     "evalue": "unindent does not match any outer indentation level (<tokenize>, line 7)",
     "output_type": "error",
     "traceback": [
      "\u001b[1;36m  File \u001b[1;32m<tokenize>:7\u001b[1;36m\u001b[0m\n\u001b[1;33m    if(type(x) == (list)) or (type(x) == (tuple)) or (type(x) == (set)):\u001b[0m\n\u001b[1;37m    ^\u001b[0m\n\u001b[1;31mIndentationError\u001b[0m\u001b[1;31m:\u001b[0m unindent does not match any outer indentation level\n"
     ]
    }
   ],
   "source": [
    "i = 0\n",
    "substring = 'John'\n",
    "for x in MyClass:\n",
    "    #if(x == 'John'):\n",
    "        count = x.count(substring)\n",
    "        i += 1\n",
    "    if(type(x) == (list)) or (type(x) == (tuple)) or (type(x) == (set)):\n",
    "        for y in x:\n",
    "            if('John' == y):\n",
    "                i += 1\n",
    "print(i)\n"
   ]
  },
  {
   "cell_type": "code",
   "execution_count": 1,
   "metadata": {},
   "outputs": [
    {
     "ename": "NameError",
     "evalue": "name 'count2' is not defined",
     "output_type": "error",
     "traceback": [
      "\u001b[1;31m---------------------------------------------------------------------------\u001b[0m",
      "\u001b[1;31mNameError\u001b[0m                                 Traceback (most recent call last)",
      "\u001b[1;32mc:\\Vscode\\Jupyter Notebook\\W10 L3\\Quiz 4.ipynb Cell 12\u001b[0m line \u001b[0;36m2\n\u001b[0;32m     <a href='vscode-notebook-cell:/c%3A/Vscode/Jupyter%20Notebook/W10%20L3/Quiz%204.ipynb#X14sZmlsZQ%3D%3D?line=18'>19</a>\u001b[0m                 countK \u001b[39m=\u001b[39m y\u001b[39m.\u001b[39mcount(substring)\n\u001b[0;32m     <a href='vscode-notebook-cell:/c%3A/Vscode/Jupyter%20Notebook/W10%20L3/Quiz%204.ipynb#X14sZmlsZQ%3D%3D?line=19'>20</a>\u001b[0m                 countV \u001b[39m=\u001b[39m z\u001b[39m.\u001b[39mcount(substring)\n\u001b[1;32m---> <a href='vscode-notebook-cell:/c%3A/Vscode/Jupyter%20Notebook/W10%20L3/Quiz%204.ipynb#X14sZmlsZQ%3D%3D?line=20'>21</a>\u001b[0m     i \u001b[39m=\u001b[39m count \u001b[39m+\u001b[39m count2 \u001b[39m+\u001b[39m count3 \u001b[39m+\u001b[39m count4 \u001b[39m+\u001b[39m countK \u001b[39m+\u001b[39m countV \n\u001b[0;32m     <a href='vscode-notebook-cell:/c%3A/Vscode/Jupyter%20Notebook/W10%20L3/Quiz%204.ipynb#X14sZmlsZQ%3D%3D?line=21'>22</a>\u001b[0m \u001b[39mprint\u001b[39m(i)\n",
      "\u001b[1;31mNameError\u001b[0m: name 'count2' is not defined"
     ]
    }
   ],
   "source": [
    "MyClass = ['John', ('John', 'John', 106, False), ['John', 'Jose'], 'John', 106, {'John', 106, False}, False]\n",
    "substring = 'John'\n",
    "for x in MyClass:\n",
    "    count = MyClass.count(substring)\n",
    "    if(type(x) == (tuple)):\n",
    "        for y in x:\n",
    "            count2 = x.count(substring)\n",
    "    if(type(x) == (set)):\n",
    "        if(('John' in x) == 1):\n",
    "            count3 = 1\n",
    "        else:\n",
    "            count3 = 0\n",
    "    if(type(x) == (list)):\n",
    "        for y in x:\n",
    "            count4 = x.count(substring)\n",
    "    if(type(x) == (dict)):\n",
    "        for y in x:\n",
    "            for z in y:\n",
    "                countK = y.count(substring)\n",
    "                countV = z.count(substring)\n",
    "    i = count + count2 + count3 + count4 + countK + countV \n",
    "print(i)"
   ]
  },
  {
   "cell_type": "code",
   "execution_count": null,
   "metadata": {},
   "outputs": [],
   "source": [
    "['Hello', 'Hello', 'Hello']\n",
    "Hello = text.count(substring)"
   ]
  },
  {
   "cell_type": "code",
   "execution_count": 4,
   "metadata": {},
   "outputs": [
    {
     "name": "stdout",
     "output_type": "stream",
     "text": [
      "3\n"
     ]
    }
   ],
   "source": [
    "text = \"hello\", \"hello\", \"hello\"\n",
    "substring = \"hello\"\n",
    "count = text.count(substring)\n",
    "print(count)"
   ]
  },
  {
   "cell_type": "code",
   "execution_count": 2,
   "metadata": {},
   "outputs": [
    {
     "name": "stdout",
     "output_type": "stream",
     "text": [
      "John\n",
      "('John', 106, False)\n",
      "John\n",
      "106\n",
      "{'John', False, 106}\n",
      "False\n"
     ]
    }
   ],
   "source": [
    "x\n",
    "for x in MyClass:\n",
    "    print(x)"
   ]
  },
  {
   "cell_type": "code",
   "execution_count": 24,
   "metadata": {},
   "outputs": [
    {
     "name": "stdout",
     "output_type": "stream",
     "text": [
      "1 0\n"
     ]
    },
    {
     "data": {
      "text/plain": [
       "dict"
      ]
     },
     "execution_count": 24,
     "metadata": {},
     "output_type": "execute_result"
    }
   ],
   "source": [
    "D = {'John': 'John'}\n",
    "sub = 'John'\n",
    "for x in D:\n",
    "    for y in x:\n",
    "        countK = x.count(sub)\n",
    "        countV = y.count(sub)\n",
    "print(countK, countV)\n",
    "type(D)"
   ]
  },
  {
   "cell_type": "code",
   "execution_count": null,
   "metadata": {},
   "outputs": [],
   "source": [
    "def counter(Container, Value):\n",
    "    for x in MyClass:\n",
    "    count = MyClass.count(substring)\n",
    "    if(type(x) == (tuple)):\n",
    "        for y in x:\n",
    "            count2 = x.count(substring)\n",
    "    if(type(x) == (set)):\n",
    "        if(('John' in x) == 1):\n",
    "            count3 = 1\n",
    "        else:\n",
    "            count3 = 0\n",
    "    if(type(x) == (list)):\n",
    "        for y in x:\n",
    "            count4 = x.count(substring)\n",
    "    if(type(x) == (dict)):\n",
    "        for y in x:\n",
    "            for z in y:\n",
    "                countK = y.count(substring)\n",
    "                countV = z.count(substring)\n",
    "    i = count + count2 + count3 + count4 + countK + countV \n",
    "print(i)"
   ]
  }
 ],
 "metadata": {
  "kernelspec": {
   "display_name": "Python 3",
   "language": "python",
   "name": "python3"
  },
  "language_info": {
   "codemirror_mode": {
    "name": "ipython",
    "version": 3
   },
   "file_extension": ".py",
   "mimetype": "text/x-python",
   "name": "python",
   "nbconvert_exporter": "python",
   "pygments_lexer": "ipython3",
   "version": "3.11.6"
  }
 },
 "nbformat": 4,
 "nbformat_minor": 2
}

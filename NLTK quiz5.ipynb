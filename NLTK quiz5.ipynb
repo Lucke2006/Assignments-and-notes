{
 "cells": [
  {
   "cell_type": "code",
   "execution_count": null,
   "metadata": {},
   "outputs": [],
   "source": []
  },
  {
   "cell_type": "code",
   "execution_count": 2,
   "metadata": {},
   "outputs": [
    {
     "name": "stdout",
     "output_type": "stream",
     "text": [
      "['\\nTobin, Conrad, Mark, and Aiden are a bunch of good friends.', 'The four cats sitting are, orange, black, white, and grey.', 'Grand Theft Auto VI will be a great game to play.', \"I'm so excited to play Grand Theft Auto VI next year.\", 'Grand Theft Auto VI will be the most relevant game of the decade.']\n",
      "[('Tobin', 'NNP'), (',', ','), ('Conrad', 'NNP'), (',', ','), ('Mark', 'NNP'), (',', ','), ('and', 'CC'), ('Aiden', 'NNP'), ('are', 'VBP'), ('a', 'DT'), ('bunch', 'NN'), ('of', 'IN'), ('good', 'JJ'), ('friends', 'NNS'), ('.', '.'), ('The', 'DT'), ('four', 'CD'), ('cats', 'NNS'), ('sitting', 'VBG'), ('are', 'VBP'), (',', ','), ('orange', 'NN'), (',', ','), ('black', 'JJ'), (',', ','), ('white', 'JJ'), (',', ','), ('and', 'CC'), ('grey', 'NN'), ('.', '.'), ('Grand', 'NNP'), ('Theft', 'NNP'), ('Auto', 'NNP'), ('VI', 'NNP'), ('will', 'MD'), ('be', 'VB'), ('a', 'DT'), ('great', 'JJ'), ('game', 'NN'), ('to', 'TO'), ('play', 'VB'), ('.', '.'), ('I', 'PRP'), (\"'m\", 'VBP'), ('so', 'RB'), ('excited', 'VBN'), ('to', 'TO'), ('play', 'VB'), ('Grand', 'NNP'), ('Theft', 'NNP'), ('Auto', 'NNP'), ('VI', 'NNP'), ('next', 'JJ'), ('year', 'NN'), ('.', '.'), ('Grand', 'NNP'), ('Theft', 'NNP'), ('Auto', 'NNP'), ('VI', 'NNP'), ('will', 'MD'), ('be', 'VB'), ('the', 'DT'), ('most', 'RBS'), ('relevant', 'JJ'), ('game', 'NN'), ('of', 'IN'), ('the', 'DT'), ('decade', 'NN'), ('.', '.')]\n",
      "['Tobin', ',', 'Conrad', ',', 'Mark', ',', 'Aiden', 'bunch', 'good', 'friends', '.', 'four', 'cats', 'sitting', ',', 'orange', ',', 'black', ',', 'white', ',', 'grey', '.', 'Grand', 'Theft', 'Auto', 'VI', 'great', 'game', 'play', '.', \"'m\", 'excited', 'play', 'Grand', 'Theft', 'Auto', 'VI', 'next', 'year', '.', 'Grand', 'Theft', 'Auto', 'VI', 'relevant', 'game', 'decade', '.']\n",
      "['Tobin', ',', 'Conrad', ',', 'Mark', ',', 'Aiden', 'bunch', 'good', 'friend', '.', 'four', 'cat', 'sitting', ',', 'orange', ',', 'black', ',', 'white', ',', 'grey', '.', 'Grand', 'Theft', 'Auto', 'VI', 'great', 'game', 'play', '.', \"'m\", 'excited', 'play', 'Grand', 'Theft', 'Auto', 'VI', 'next', 'year', '.', 'Grand', 'Theft', 'Auto', 'VI', 'relevant', 'game', 'decade', '.']\n"
     ]
    },
    {
     "name": "stderr",
     "output_type": "stream",
     "text": [
      "[nltk_data] Downloading package stopwords to\n",
      "[nltk_data]     C:\\Users\\nesto\\AppData\\Roaming\\nltk_data...\n",
      "[nltk_data]   Package stopwords is already up-to-date!\n"
     ]
    }
   ],
   "source": [
    "import nltk\n",
    "from nltk.tokenize import sent_tokenize\n",
    "from nltk.tokenize import word_tokenize\n",
    "nltk.download(\"stopwords\")\n",
    "from nltk.corpus import stopwords\n",
    "from nltk.stem import WordNetLemmatizer\n",
    "#Tokenization\n",
    "About = \"\"\"\n",
    "Tobin, Conrad, Mark, and Aiden are a bunch of good friends. The four cats sitting are, orange, black, white, and grey. Grand Theft Auto VI will be a great game to play. I'm so excited to play Grand Theft Auto VI next year. Grand Theft Auto VI will be the most relevant game of the decade. \"\"\"\n",
    "print(sent_tokenize(About))    #sentence tokenization\n",
    "\n",
    "#Tagging\n",
    "about_tagged = word_tokenize(About) \n",
    "print(nltk.pos_tag(about_tagged))\n",
    "\n",
    "#stopwords\n",
    "about_tokenized = word_tokenize(About)\n",
    "filtered_list = []\n",
    "stop_words = set(stopwords.words(\"english\"))\n",
    "for word in about_tokenized:\n",
    "    if word.casefold() not in stop_words:\n",
    "        filtered_list.append(word)\n",
    "filtered_list = [word for word in about_tokenized if word.casefold() not in stop_words]\n",
    "print(filtered_list)\n",
    "\n",
    "#Lemmatizing\n",
    "lemmatizer = WordNetLemmatizer()\n",
    "l = []\n",
    "for x in filtered_list:\n",
    "    l.append(lemmatizer.lemmatize(x))\n",
    "\n",
    "print(l)\n"
   ]
  },
  {
   "cell_type": "code",
   "execution_count": 9,
   "metadata": {},
   "outputs": [
    {
     "name": "stdout",
     "output_type": "stream",
     "text": [
      "['\\nTobin, Conrad, Mark, and Aiden are a bunch of good friends.', 'The four cats sitting are, orange, black, white, and grey.', 'Grand Theft Auto VI will be a great game to play.', 'Im so excited to play Grand Theft Auto VI next year.', 'Grand Theft Auto VI will be the most relevant game of the decade.']\n",
      "[('Tobin', 'NNP'), (',', ','), ('Conrad', 'NNP'), (',', ','), ('Mark', 'NNP'), (',', ','), ('and', 'CC'), ('Aiden', 'NNP'), ('are', 'VBP'), ('a', 'DT'), ('bunch', 'NN'), ('of', 'IN'), ('good', 'JJ'), ('friends', 'NNS'), ('.', '.'), ('The', 'DT'), ('four', 'CD'), ('cats', 'NNS'), ('sitting', 'VBG'), ('are', 'VBP'), (',', ','), ('orange', 'NN'), (',', ','), ('black', 'JJ'), (',', ','), ('white', 'JJ'), (',', ','), ('and', 'CC'), ('grey', 'NN'), ('.', '.'), ('Grand', 'NNP'), ('Theft', 'NNP'), ('Auto', 'NNP'), ('VI', 'NNP'), ('will', 'MD'), ('be', 'VB'), ('a', 'DT'), ('great', 'JJ'), ('game', 'NN'), ('to', 'TO'), ('play', 'VB'), ('.', '.'), ('Im', 'NNP'), ('so', 'RB'), ('excited', 'VBD'), ('to', 'TO'), ('play', 'VB'), ('Grand', 'NNP'), ('Theft', 'NNP'), ('Auto', 'NNP'), ('VI', 'NNP'), ('next', 'JJ'), ('year', 'NN'), ('.', '.'), ('Grand', 'NNP'), ('Theft', 'NNP'), ('Auto', 'NNP'), ('VI', 'NNP'), ('will', 'MD'), ('be', 'VB'), ('the', 'DT'), ('most', 'RBS'), ('relevant', 'JJ'), ('game', 'NN'), ('of', 'IN'), ('the', 'DT'), ('decade', 'NN'), ('.', '.')]\n",
      "['Tobin', ',', 'Conrad', ',', 'Mark', ',', 'Aiden', 'bunch', 'good', 'friends', '.', 'four', 'cats', 'sitting', ',', 'orange', ',', 'black', ',', 'white', ',', 'grey', '.', 'Grand', 'Theft', 'Auto', 'VI', 'great', 'game', 'play', '.', 'Im', 'excited', 'play', 'Grand', 'Theft', 'Auto', 'VI', 'next', 'year', '.', 'Grand', 'Theft', 'Auto', 'VI', 'relevant', 'game', 'decade', '.']\n",
      "Tobin , Conrad , Mark , Aiden bunch good friend . four cat sitting , orange , black , white , grey . Grand Theft Auto VI great game play . Im excited play Grand Theft Auto VI next year . Grand Theft Auto VI relevant game decade .\n"
     ]
    },
    {
     "name": "stderr",
     "output_type": "stream",
     "text": [
      "[nltk_data] Downloading package stopwords to\n",
      "[nltk_data]     C:\\Users\\nesto\\AppData\\Roaming\\nltk_data...\n",
      "[nltk_data]   Package stopwords is already up-to-date!\n"
     ]
    }
   ],
   "source": [
    "import nltk\n",
    "from nltk.tokenize import sent_tokenize\n",
    "from nltk.tokenize import word_tokenize\n",
    "nltk.download(\"stopwords\")\n",
    "from nltk.corpus import stopwords\n",
    "from nltk.stem import WordNetLemmatizer\n",
    "#Tokenization\n",
    "About = \"\"\"\n",
    "Tobin, Conrad, Mark, and Aiden are a bunch of good friends. The four cats sitting are, orange, black, white, and grey. Grand Theft Auto VI will be a great game to play. Im so excited to play Grand Theft Auto VI next year. Grand Theft Auto VI will be the most relevant game of the decade. \"\"\"\n",
    "print(sent_tokenize(About))    #sentence tokenization\n",
    "\n",
    "#Tagging\n",
    "about_tagged = word_tokenize(About) \n",
    "print(nltk.pos_tag(about_tagged))\n",
    "\n",
    "#stopwords\n",
    "about_tokenized = word_tokenize(About)\n",
    "filtered_list = []\n",
    "stop_words = set(stopwords.words(\"english\"))\n",
    "for word in about_tokenized:\n",
    "    if word.casefold() not in stop_words:\n",
    "        filtered_list.append(word)\n",
    "filtered_list = [word for word in about_tokenized if word.casefold() not in stop_words]\n",
    "print(filtered_list)\n",
    "\n",
    "#Lemmatizing\n",
    "lemmatizer = WordNetLemmatizer()\n",
    "l = []          #We create an empty list, to then append all the lemmatized items\n",
    "for x in filtered_list:     #The for loop is used to make a list out of all lemmatized items inside of filtered_list\n",
    "    l.append(lemmatizer.lemmatize(x))       \n",
    "l_new = ' '.join(l)     #The join command is used to join different strings within a container\n",
    "\n",
    "\n",
    "print(l_new)"
   ]
  }
 ],
 "metadata": {
  "kernelspec": {
   "display_name": "Python 3",
   "language": "python",
   "name": "python3"
  },
  "language_info": {
   "codemirror_mode": {
    "name": "ipython",
    "version": 3
   },
   "file_extension": ".py",
   "mimetype": "text/x-python",
   "name": "python",
   "nbconvert_exporter": "python",
   "pygments_lexer": "ipython3",
   "version": "3.11.7"
  }
 },
 "nbformat": 4,
 "nbformat_minor": 2
}

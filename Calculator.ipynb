{
 "cells": [
  {
   "cell_type": "code",
   "execution_count": null,
   "metadata": {},
   "outputs": [],
   "source": [
    "'''\n",
    "\n",
    "Name: Jose Grcia\n",
    "Class: CSC106\n",
    "HW#: 2 week 6\n",
    "QN: 1\n",
    "Date: 10/20/2023\n",
    "\n",
    "''' "
   ]
  },
  {
   "cell_type": "code",
   "execution_count": 11,
   "metadata": {},
   "outputs": [
    {
     "name": "stdout",
     "output_type": "stream",
     "text": [
      "0.6569865987187891\n"
     ]
    }
   ],
   "source": [
    "import math\n",
    "type = input('Continue, M+, MC or AC?')     #ask for type, then proceed\n",
    "\n",
    "if(type == 'M+') or (type == 'm+'):\n",
    "    Mem1 = input('Value =')     #input a value for the memory\n",
    "    if(Mem1 == 'result'):       #when memory equals to result variable than memory will take that value\n",
    "        Mem1 = result\n",
    "if(type == 'MC') or (type == 'mc'):       #when the type is memory clear then the memory value is equal to 0\n",
    "    Mem1 = 0\n",
    "\n",
    "if(type == 'Continue') or (type == 'continue') or (type == 'AC') or (type == 'ac'):       #when type equals continue or ac, then proceed to the loop\n",
    "    while(True):\n",
    "        type = input('Num. Trig or AC?')        #if the type is Num,  Trig or AC then it will go to one of the paths\n",
    "        if(type == 'Num') or (type == 'num'):      #when type equals to num then continue\n",
    "            print('Numbers between 0 - 9:')\n",
    "            a = input()\n",
    "            if(a == 'MR') or (a == 'mr'):      #if the input value for a is equal to 'MR' then the value of a will be the value of the variable Mem1\n",
    "                a = Mem1\n",
    "            b = input()     #the same thing that happened with a is being done with b\n",
    "            if(b == 'MR') or (b == 'mr'):\n",
    "                b = Mem1\n",
    "            if(a.isnumeric() == 1) and (b.isnumeric() == 1):        #the isnumeric function will check if the inputs for a and b are integers, if it is then it will proceed\n",
    "                ia = int(a)     #a and b are casted into integers afterward so that they can be operated on\n",
    "                ib = int(b)\n",
    "                if(0 <= ia <= 9) and (0 <= ib <= 9):        #if a and b are in the ranges within 0-9 then proceed\n",
    "                    type2 = input('+, a-b, b-a, a/b, b/a or *?')        #type2 is a variable for the statement that will ask what kind of operation\n",
    "                    if(type2 == '+'):       #if type2 is equal to + then it will do addition, and same process will happen with the elif's but it will execute different operations\n",
    "                        result = ia + ib\n",
    "                        print(result)\n",
    "                    elif(type2 == 'a-b'):\n",
    "                        result = ia - ib\n",
    "                        print(result)\n",
    "                    elif(type2 == 'b-a'):\n",
    "                        result = ib - ia\n",
    "                        print(result)\n",
    "                    elif(type2 == 'a/b'):\n",
    "                        result = ia/ib\n",
    "                        print(result)\n",
    "                    elif(type2 == 'b/a'):\n",
    "                        result = ib/ia\n",
    "                        print(result)\n",
    "                    elif(type2 == '*'):\n",
    "                        result = ia*ib\n",
    "                        print(result)\n",
    "                else:\n",
    "                    print('input isnt within the ranges permitted')     #when a or b are not within the ranges than this message will print\n",
    "            else:\n",
    "                print('input isnt a number')        #when isnumeric equals to false then this message will print out\n",
    "\n",
    "        elif(type == 'Trig') or (type == 'trig'):       #when the type equals to Trig then this process will happen\n",
    "            c = input('Number between 0 and 9 =')\n",
    "            if(c == 'MR') or (c == 'mr'):      #when the input for c equals to MR then c will equal to th value of the variable Mem1\n",
    "                c = Mem1\n",
    "            if(c.isnumeric() == 1):     #isnumeric wil check if input is an integer\n",
    "                ic = int(c)     #casting c into an integer\n",
    "                if(0 <= ic <= 9):       #check if c is in ranges between 0 - 9 to continue\n",
    "                    type3 = input('Sin, Cos or Tan?')\n",
    "                    if(type3 == 'Sin'):     #if the type is equal to sin it will excetue it, same thing will happen with the other operations\n",
    "                        print(math.sin(ic))\n",
    "                    elif(type3 == 'Cos'):\n",
    "                        print(math.cos(ic))\n",
    "                    elif(type3 == 'Tan'):\n",
    "                        print(math.tan(ic))\n",
    "                else:\n",
    "                    print('input isnt within the ranges permitted')\n",
    "            else:\n",
    "                print('input isnt a number')\n",
    "        elif(type == 'AC') or (type == 'ac'):     #if type is equal to AC then the loop will break \n",
    "            break\n",
    "        else:\n",
    "            print('it isnt Num or Trig, please choose one')\n"
   ]
  },
  {
   "cell_type": "code",
   "execution_count": null,
   "metadata": {},
   "outputs": [],
   "source": [
    "import math\n",
    "\n",
    "def add(x, y):\n",
    "    return x + y\n",
    "def substract(x, y):\n",
    "    return x - y\n",
    "def multiply(x, y):\n",
    "    return x * y\n",
    "def divide(x, y):\n",
    "    return x / y"
   ]
  }
 ],
 "metadata": {
  "kernelspec": {
   "display_name": "Python 3",
   "language": "python",
   "name": "python3"
  },
  "language_info": {
   "codemirror_mode": {
    "name": "ipython",
    "version": 3
   },
   "file_extension": ".py",
   "mimetype": "text/x-python",
   "name": "python",
   "nbconvert_exporter": "python",
   "pygments_lexer": "ipython3",
   "version": "3.11.6"
  }
 },
 "nbformat": 4,
 "nbformat_minor": 2
}

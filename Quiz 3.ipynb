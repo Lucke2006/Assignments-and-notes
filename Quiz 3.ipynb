{
 "cells": [
  {
   "cell_type": "code",
   "execution_count": null,
   "metadata": {},
   "outputs": [],
   "source": [
    "'''\n",
    "\n",
    "Name: Jose\n",
    "Class: CSC106\n",
    "HW#: Quiz 3\n",
    "QN: 1\n",
    "Date: 10/24/2023\n",
    "\n",
    "''' "
   ]
  },
  {
   "cell_type": "code",
   "execution_count": 3,
   "metadata": {},
   "outputs": [
    {
     "name": "stdout",
     "output_type": "stream",
     "text": [
      "<class 'str'>\n"
     ]
    }
   ],
   "source": [
    "First_Name = 'Jose'\n",
    "print(type(First_Name))"
   ]
  },
  {
   "cell_type": "code",
   "execution_count": 4,
   "metadata": {},
   "outputs": [
    {
     "name": "stdout",
     "output_type": "stream",
     "text": [
      "<class 'int'>\n"
     ]
    }
   ],
   "source": [
    "ID = 88888\n",
    "print(type(ID))"
   ]
  },
  {
   "cell_type": "code",
   "execution_count": 5,
   "metadata": {},
   "outputs": [
    {
     "name": "stdout",
     "output_type": "stream",
     "text": [
      "<class 'bool'>\n"
     ]
    }
   ],
   "source": [
    "Graduated = True\n",
    "print(type(Graduated))"
   ]
  },
  {
   "cell_type": "code",
   "execution_count": 6,
   "metadata": {},
   "outputs": [
    {
     "name": "stdout",
     "output_type": "stream",
     "text": [
      "('Jose', 88888, True)\n"
     ]
    }
   ],
   "source": [
    "T = (First_Name, ID, Graduated)\n",
    "print(T)"
   ]
  },
  {
   "cell_type": "code",
   "execution_count": 6,
   "metadata": {},
   "outputs": [
    {
     "name": "stdout",
     "output_type": "stream",
     "text": [
      "['Jose', 88888, True]\n"
     ]
    }
   ],
   "source": [
    "L = [First_Name, ID, Graduated]\n",
    "print(L)"
   ]
  },
  {
   "cell_type": "code",
   "execution_count": 8,
   "metadata": {},
   "outputs": [
    {
     "name": "stdout",
     "output_type": "stream",
     "text": [
      "{88888, True, 'Jose'}\n"
     ]
    }
   ],
   "source": [
    "S = {First_Name, ID, Graduated}\n",
    "print(S)"
   ]
  },
  {
   "cell_type": "code",
   "execution_count": 9,
   "metadata": {},
   "outputs": [
    {
     "name": "stdout",
     "output_type": "stream",
     "text": [
      "{'Name': 'Jose', 'ID': 88888, 'Graduated': True}\n"
     ]
    }
   ],
   "source": [
    "D = {'Name': First_Name, 'ID': ID, 'Graduated': Graduated}\n",
    "print(D)"
   ]
  },
  {
   "cell_type": "code",
   "execution_count": 7,
   "metadata": {},
   "outputs": [
    {
     "name": "stdout",
     "output_type": "stream",
     "text": [
      "Jose\n",
      "88888\n",
      "True\n"
     ]
    }
   ],
   "source": [
    "Student = [First_Name, ID, Graduated]\n",
    "print(Student[0])\n",
    "print(Student[1])\n",
    "print(Student[2])"
   ]
  },
  {
   "cell_type": "code",
   "execution_count": 16,
   "metadata": {},
   "outputs": [
    {
     "name": "stdout",
     "output_type": "stream",
     "text": [
      "correct\n"
     ]
    }
   ],
   "source": [
    "if(Student[0] == 'Jose'):\n",
    "    print('correct')"
   ]
  },
  {
   "cell_type": "code",
   "execution_count": 15,
   "metadata": {},
   "outputs": [
    {
     "name": "stdout",
     "output_type": "stream",
     "text": [
      "correct\n"
     ]
    }
   ],
   "source": [
    "if(Student[1] == 88888):\n",
    "    print('correct')"
   ]
  },
  {
   "cell_type": "code",
   "execution_count": 17,
   "metadata": {},
   "outputs": [
    {
     "name": "stdout",
     "output_type": "stream",
     "text": [
      "Graduated\n"
     ]
    }
   ],
   "source": [
    "if(Student[2] == 1):\n",
    "    print('Graduated')"
   ]
  },
  {
   "cell_type": "code",
   "execution_count": 18,
   "metadata": {},
   "outputs": [
    {
     "name": "stdout",
     "output_type": "stream",
     "text": [
      "incorrect\n"
     ]
    }
   ],
   "source": [
    "if(Student[0] == 'Jose'):\n",
    "    print('correct')\n",
    "else:\n",
    "    print('incorrect')"
   ]
  },
  {
   "cell_type": "code",
   "execution_count": null,
   "metadata": {},
   "outputs": [],
   "source": [
    "if(Student[1] == 88888):\n",
    "    print('correct')\n",
    "else:\n",
    "    print('incorrect')"
   ]
  },
  {
   "cell_type": "code",
   "execution_count": null,
   "metadata": {},
   "outputs": [],
   "source": [
    "if(Student[2] == 1):\n",
    "    print('Graduated')\n",
    "else:\n",
    "    print('not graduated')"
   ]
  },
  {
   "cell_type": "code",
   "execution_count": 25,
   "metadata": {},
   "outputs": [
    {
     "name": "stdout",
     "output_type": "stream",
     "text": [
      "correct\n"
     ]
    }
   ],
   "source": [
    "i = 0\n",
    "while (i < 1):\n",
    "    if(Student[0] == 'Jose'):\n",
    "        print('correct')\n",
    "    i+=1"
   ]
  },
  {
   "cell_type": "code",
   "execution_count": 26,
   "metadata": {},
   "outputs": [
    {
     "name": "stdout",
     "output_type": "stream",
     "text": [
      "correct\n"
     ]
    }
   ],
   "source": [
    "i = 0\n",
    "while (i < 1):\n",
    "    if(Student[1] == 88888):\n",
    "        print('correct')\n",
    "    i+=1"
   ]
  },
  {
   "cell_type": "code",
   "execution_count": 27,
   "metadata": {},
   "outputs": [
    {
     "name": "stdout",
     "output_type": "stream",
     "text": [
      "Graduated\n"
     ]
    }
   ],
   "source": [
    "i = 0\n",
    "while (i < 1):\n",
    "    if(Student[2] == 1):\n",
    "        print('Graduated')\n",
    "    i+=1"
   ]
  },
  {
   "cell_type": "code",
   "execution_count": 32,
   "metadata": {},
   "outputs": [
    {
     "name": "stdout",
     "output_type": "stream",
     "text": [
      "correct\n"
     ]
    }
   ],
   "source": [
    "for Jose in range(1):\n",
    "    if(Student[0] == 'Jose'):\n",
    "        print('correct')"
   ]
  },
  {
   "cell_type": "code",
   "execution_count": 35,
   "metadata": {},
   "outputs": [
    {
     "name": "stdout",
     "output_type": "stream",
     "text": [
      "correct\n"
     ]
    }
   ],
   "source": [
    "i = 88888\n",
    "for i in range(1):\n",
    "    if(Student[1] == 88888):\n",
    "        print('correct')"
   ]
  },
  {
   "cell_type": "code",
   "execution_count": 8,
   "metadata": {},
   "outputs": [
    {
     "name": "stdout",
     "output_type": "stream",
     "text": [
      "Graduated\n"
     ]
    }
   ],
   "source": [
    "i = True\n",
    "for i in range(1):\n",
    "    if(Student[2] == 1):\n",
    "        print('Graduated')"
   ]
  },
  {
   "cell_type": "code",
   "execution_count": 40,
   "metadata": {},
   "outputs": [
    {
     "name": "stdout",
     "output_type": "stream",
     "text": [
      "Length:\n",
      "4\n",
      "Perimeter:\n",
      "16\n",
      "Area\n",
      "8\n"
     ]
    }
   ],
   "source": [
    "sqA_len = 4\n",
    "sqB_len = 8\n",
    "\n",
    "print('Length:')\n",
    "Length = abs(sqA_len - sqB_len)\n",
    "print(Length)\n",
    "\n",
    "print('Perimeter:')\n",
    "Perimeter = abs(sqA_len * (4) - sqB_len * (4))\n",
    "print(Perimeter)\n",
    "\n",
    "print('Area')\n",
    "area = abs(sqA_len * (2) - sqB_len * (2))\n",
    "print(area)"
   ]
  },
  {
   "cell_type": "code",
   "execution_count": 2,
   "metadata": {},
   "outputs": [
    {
     "data": {
      "text/plain": [
       "{50, 70, 100}"
      ]
     },
     "execution_count": 2,
     "metadata": {},
     "output_type": "execute_result"
    }
   ],
   "source": [
    "s = {100, 50, 70}\n",
    "s"
   ]
  },
  {
   "cell_type": "code",
   "execution_count": 6,
   "metadata": {},
   "outputs": [
    {
     "name": "stdout",
     "output_type": "stream",
     "text": [
      "John\n"
     ]
    }
   ],
   "source": [
    "MyClass = ['John', ('John', 106, False), 106, {'John', 106, False}, False]\n",
    "for x in [1]:\n",
    "    if(('John' in MyClass[3]) == True):\n",
    "        print('John')"
   ]
  },
  {
   "cell_type": "code",
   "execution_count": 8,
   "metadata": {},
   "outputs": [
    {
     "name": "stdout",
     "output_type": "stream",
     "text": [
      "3\n"
     ]
    }
   ],
   "source": [
    "x = 0\n",
    "if(MyClass[0] == 'John'):\n",
    "    x += 1\n",
    "if(MyClass[1][0] == 'John'):\n",
    "    x += 1\n",
    "if(MyClass[2] == 'John'):\n",
    "    x += 1\n",
    "if(('John' in MyClass[3]) == True):\n",
    "    x += 1\n",
    "if(MyClass[4] == 'John'):\n",
    "    x += 1\n",
    "print(x)"
   ]
  },
  {
   "cell_type": "code",
   "execution_count": null,
   "metadata": {},
   "outputs": [],
   "source": []
  }
 ],
 "metadata": {
  "kernelspec": {
   "display_name": "Python 3",
   "language": "python",
   "name": "python3"
  },
  "language_info": {
   "codemirror_mode": {
    "name": "ipython",
    "version": 3
   },
   "file_extension": ".py",
   "mimetype": "text/x-python",
   "name": "python",
   "nbconvert_exporter": "python",
   "pygments_lexer": "ipython3",
   "version": "3.11.6"
  }
 },
 "nbformat": 4,
 "nbformat_minor": 2
}

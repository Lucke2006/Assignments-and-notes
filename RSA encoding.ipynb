{
 "cells": [
  {
   "cell_type": "code",
   "execution_count": 26,
   "metadata": {},
   "outputs": [
    {
     "ename": "TypeError",
     "evalue": "unsupported operand type(s) for ^: 'float' and 'int'",
     "output_type": "error",
     "traceback": [
      "\u001b[1;31m---------------------------------------------------------------------------\u001b[0m",
      "\u001b[1;31mTypeError\u001b[0m                                 Traceback (most recent call last)",
      "\u001b[1;32mUntitled-1.ipynb Cell 1\u001b[0m line \u001b[0;36m9\n\u001b[0;32m      <a href='vscode-notebook-cell:Untitled-1.ipynb?jupyter-notebook#W0sdW50aXRsZWQ%3D?line=5'>6</a>\u001b[0m     d \u001b[39m=\u001b[39m (e\u001b[39m^\u001b[39m(\u001b[39m-\u001b[39m\u001b[39m1\u001b[39m)) \u001b[39m%\u001b[39m r\n\u001b[0;32m      <a href='vscode-notebook-cell:Untitled-1.ipynb?jupyter-notebook#W0sdW50aXRsZWQ%3D?line=6'>7</a>\u001b[0m     \u001b[39mprint\u001b[39m(\u001b[39mf\u001b[39m\u001b[39m\"\u001b[39m\u001b[39mYour public key is: \u001b[39m\u001b[39m{\u001b[39;00me,\u001b[39m \u001b[39mn\u001b[39m}\u001b[39;00m\u001b[39m and your private key is: \u001b[39m\u001b[39m{\u001b[39;00md,\u001b[39m \u001b[39mn\u001b[39m}\u001b[39;00m\u001b[39m.\u001b[39m\u001b[39m\"\u001b[39m)\n\u001b[1;32m----> <a href='vscode-notebook-cell:Untitled-1.ipynb?jupyter-notebook#W0sdW50aXRsZWQ%3D?line=8'>9</a>\u001b[0m encrypt(\u001b[39m11\u001b[39;49m, \u001b[39m3\u001b[39;49m)\n",
      "\u001b[1;32mUntitled-1.ipynb Cell 1\u001b[0m line \u001b[0;36m6\n\u001b[0;32m      <a href='vscode-notebook-cell:Untitled-1.ipynb?jupyter-notebook#W0sdW50aXRsZWQ%3D?line=3'>4</a>\u001b[0m r \u001b[39m=\u001b[39m (p\u001b[39m-\u001b[39m\u001b[39m1\u001b[39m)\u001b[39m*\u001b[39m(q\u001b[39m-\u001b[39m\u001b[39m1\u001b[39m)\n\u001b[0;32m      <a href='vscode-notebook-cell:Untitled-1.ipynb?jupyter-notebook#W0sdW50aXRsZWQ%3D?line=4'>5</a>\u001b[0m e \u001b[39m=\u001b[39m (r\u001b[39m/\u001b[39m\u001b[39m3\u001b[39m) \u001b[39m+\u001b[39m\u001b[39m1\u001b[39m\n\u001b[1;32m----> <a href='vscode-notebook-cell:Untitled-1.ipynb?jupyter-notebook#W0sdW50aXRsZWQ%3D?line=5'>6</a>\u001b[0m d \u001b[39m=\u001b[39m (e\u001b[39m^\u001b[39;49m(\u001b[39m-\u001b[39;49m\u001b[39m1\u001b[39;49m)) \u001b[39m%\u001b[39m r\n\u001b[0;32m      <a href='vscode-notebook-cell:Untitled-1.ipynb?jupyter-notebook#W0sdW50aXRsZWQ%3D?line=6'>7</a>\u001b[0m \u001b[39mprint\u001b[39m(\u001b[39mf\u001b[39m\u001b[39m\"\u001b[39m\u001b[39mYour public key is: \u001b[39m\u001b[39m{\u001b[39;00me,\u001b[39m \u001b[39mn\u001b[39m}\u001b[39;00m\u001b[39m and your private key is: \u001b[39m\u001b[39m{\u001b[39;00md,\u001b[39m \u001b[39mn\u001b[39m}\u001b[39;00m\u001b[39m.\u001b[39m\u001b[39m\"\u001b[39m)\n",
      "\u001b[1;31mTypeError\u001b[0m: unsupported operand type(s) for ^: 'float' and 'int'"
     ]
    }
   ],
   "source": [
    "import random\n",
    "def encrypt(q, p):\n",
    "    n = p*q\n",
    "    r = (p-1)*(q-1)\n",
    "    e = (r/3) +1\n",
    "    d = (e**(-1)) % r\n",
    "    print(f\"Your public key is: {e, n} and your private key is: {d, n}.\")\n",
    "\n",
    "encrypt(11, 3)\n",
    "\n",
    "\n",
    "\n",
    "\n"
   ]
  },
  {
   "cell_type": "code",
   "execution_count": 16,
   "metadata": {},
   "outputs": [
    {
     "ename": "TypeError",
     "evalue": "'int' object is not iterable",
     "output_type": "error",
     "traceback": [
      "\u001b[1;31m---------------------------------------------------------------------------\u001b[0m",
      "\u001b[1;31mTypeError\u001b[0m                                 Traceback (most recent call last)",
      "\u001b[1;32mUntitled-1.ipynb Cell 2\u001b[0m line \u001b[0;36m4\n\u001b[0;32m      <a href='vscode-notebook-cell:Untitled-1.ipynb?jupyter-notebook#W1sdW50aXRsZWQ%3D?line=0'>1</a>\u001b[0m \u001b[39mdef\u001b[39;00m \u001b[39mget_interval\u001b[39m(lst, start, end):\n\u001b[0;32m      <a href='vscode-notebook-cell:Untitled-1.ipynb?jupyter-notebook#W1sdW50aXRsZWQ%3D?line=1'>2</a>\u001b[0m     \u001b[39mreturn\u001b[39;00m [x \u001b[39mfor\u001b[39;00m x \u001b[39min\u001b[39;00m lst \u001b[39mif\u001b[39;00m start \u001b[39m<\u001b[39m\u001b[39m=\u001b[39m x \u001b[39m<\u001b[39m\u001b[39m=\u001b[39m end]\n\u001b[1;32m----> <a href='vscode-notebook-cell:Untitled-1.ipynb?jupyter-notebook#W1sdW50aXRsZWQ%3D?line=3'>4</a>\u001b[0m get_interval(\u001b[39m5\u001b[39;49m, \u001b[39m2\u001b[39;49m, \u001b[39m9\u001b[39;49m)\n",
      "\u001b[1;32mUntitled-1.ipynb Cell 2\u001b[0m line \u001b[0;36m2\n\u001b[0;32m      <a href='vscode-notebook-cell:Untitled-1.ipynb?jupyter-notebook#W1sdW50aXRsZWQ%3D?line=0'>1</a>\u001b[0m \u001b[39mdef\u001b[39;00m \u001b[39mget_interval\u001b[39m(lst, start, end):\n\u001b[1;32m----> <a href='vscode-notebook-cell:Untitled-1.ipynb?jupyter-notebook#W1sdW50aXRsZWQ%3D?line=1'>2</a>\u001b[0m     \u001b[39mreturn\u001b[39;00m [x \u001b[39mfor\u001b[39;49;00m x \u001b[39min\u001b[39;49;00m lst \u001b[39mif\u001b[39;49;00m start \u001b[39m<\u001b[39;49m\u001b[39m=\u001b[39;49m x \u001b[39m<\u001b[39;49m\u001b[39m=\u001b[39;49m end]\n",
      "\u001b[1;31mTypeError\u001b[0m: 'int' object is not iterable"
     ]
    }
   ],
   "source": [
    "def get_interval(lst, start, end):\n",
    "    return [x for x in lst if start <= x <= end]\n",
    "\n",
    "get_interval(5, 2, 9)"
   ]
  },
  {
   "cell_type": "code",
   "execution_count": null,
   "metadata": {},
   "outputs": [],
   "source": [
    "def get_first_letter(word):\n",
    "    word[0]\n",
    "    print(f\"The first letter of 'hello' is {first_letter}.\")\n",
    "\n",
    "first_letter = get_first_letter(\"hello\")\n",
    "print(f\"The first letter of 'hello' is {first_letter}.\")"
   ]
  },
  {
   "cell_type": "code",
   "execution_count": 100,
   "metadata": {},
   "outputs": [
    {
     "data": {
      "text/plain": [
       "('Your encrypted key is 21', 3.0, 20, 33, 7)"
      ]
     },
     "execution_count": 100,
     "metadata": {},
     "output_type": "execute_result"
    }
   ],
   "source": [
    "#FINAL\n",
    "import math\n",
    "from math import gcd\n",
    "\n",
    "def phi(n):\n",
    "    amount = 0\n",
    "    for k in range(1, n + 1):\n",
    "        if gcd(n, k) == 1:\n",
    "            amount += 1\n",
    "    return amount\n",
    "\n",
    "def encrypt(M):\n",
    "    n = 3*11\n",
    "    e = math.ceil((phi(n) + 1)/3)\n",
    "    d = ((e^(-1)*(gcd(phi(n), e))) % (phi(n))) / 4\n",
    "    C = (M*e)\n",
    "    return(f\"Your encrypted key is {C}\", d, phi(n), n, e)\n",
    "\n",
    "encrypt(3)"
   ]
  },
  {
   "cell_type": "code",
   "execution_count": 47,
   "metadata": {},
   "outputs": [
    {
     "data": {
      "text/plain": [
       "12"
      ]
     },
     "execution_count": 47,
     "metadata": {},
     "output_type": "execute_result"
    }
   ],
   "source": [
    "7^(-1 % 20)\n",
    "(7^-1) % 20"
   ]
  },
  {
   "cell_type": "code",
   "execution_count": 26,
   "metadata": {},
   "outputs": [
    {
     "ename": "NameError",
     "evalue": "name 'e' is not defined",
     "output_type": "error",
     "traceback": [
      "\u001b[1;31m---------------------------------------------------------------------------\u001b[0m",
      "\u001b[1;31mNameError\u001b[0m                                 Traceback (most recent call last)",
      "\u001b[1;32mc:\\Vscode\\Jupyter Notebook\\W11 L2\\RSA encoding.ipynb Cell 6\u001b[0m line \u001b[0;36m1\n\u001b[1;32m----> <a href='vscode-notebook-cell:/c%3A/Vscode/Jupyter%20Notebook/W11%20L2/RSA%20encoding.ipynb#W5sZmlsZQ%3D%3D?line=0'>1</a>\u001b[0m C \u001b[39m=\u001b[39m (M\u001b[39m^\u001b[39me) \u001b[39m%\u001b[39m n\n\u001b[0;32m      <a href='vscode-notebook-cell:/c%3A/Vscode/Jupyter%20Notebook/W11%20L2/RSA%20encoding.ipynb#W5sZmlsZQ%3D%3D?line=1'>2</a>\u001b[0m M \u001b[39m=\u001b[39m (C\u001b[39m^\u001b[39md) \u001b[39m%\u001b[39m n \n",
      "\u001b[1;31mNameError\u001b[0m: name 'e' is not defined"
     ]
    }
   ],
   "source": [
    "C = (M^e) % n\n",
    "M = (C^d) % n "
   ]
  },
  {
   "cell_type": "code",
   "execution_count": 50,
   "metadata": {},
   "outputs": [
    {
     "name": "stdout",
     "output_type": "stream",
     "text": [
      "2187\n",
      "3\n"
     ]
    }
   ],
   "source": [
    "#M = int(input())\n",
    "\n",
    "\n",
    "C = (3**7)\n",
    "print(C)\n",
    "M = (C**3) % 33\n",
    "print(M)"
   ]
  },
  {
   "cell_type": "code",
   "execution_count": 70,
   "metadata": {},
   "outputs": [
    {
     "name": "stdout",
     "output_type": "stream",
     "text": [
      "243\n",
      "7.995116153134859\n"
     ]
    }
   ],
   "source": [
    "C = (3**5)\n",
    "print(C)\n",
    "M = (C**1.5) % 21\n",
    "print(M)"
   ]
  },
  {
   "cell_type": "code",
   "execution_count": 210,
   "metadata": {},
   "outputs": [
    {
     "name": "stdout",
     "output_type": "stream",
     "text": [
      "0.3333333333333333 3\n",
      "0.3333333333333333 3\n"
     ]
    },
    {
     "data": {
      "text/plain": [
       "(512, 'Your message is 8')"
      ]
     },
     "execution_count": 210,
     "metadata": {},
     "output_type": "execute_result"
    }
   ],
   "source": [
    "#Final 2\n",
    "import math\n",
    "from math import gcd\n",
    "\n",
    "def phi(n):\n",
    "    amount = 0\n",
    "    for k in range(1, n + 1):\n",
    "        if gcd(n, k) == 1:\n",
    "            amount += 1\n",
    "    return amount\n",
    "\n",
    "def encrypt(M):\n",
    "    n = 2*5     #Q and P are predefined\n",
    "    l = list(range(2, (phi(n))))\n",
    "    for x in l:     #The followig for loop is used to find a number that has a gcd of 1 and is also in the dfined range\n",
    "        if(gcd(phi(n), x) == 1):\n",
    "            e = x\n",
    "    d = (e**(-1)) % (phi(n))\n",
    "    C = (M**e)\n",
    "    print(d, e) #testing values\n",
    "    return(C)   #return value of C to be later used(only because of testing)\n",
    "\n",
    "def decrypt(d, C):   \n",
    "    M = math.ceil((C**d) % math.inf)    # I choose an infinite number as my n, because I found out that the n on the decrypt function means limit of the decrypted number\n",
    "    return(f\"Your message is {M}\")\n",
    "\n",
    "\n",
    "encrypt(8), decrypt(0.3333333333333333,encrypt(8))"
   ]
  },
  {
   "cell_type": "code",
   "execution_count": 130,
   "metadata": {},
   "outputs": [
    {
     "name": "stdout",
     "output_type": "stream",
     "text": [
      "4\n",
      "1\n"
     ]
    }
   ],
   "source": [
    "import math\n",
    "import random\n",
    "from math import gcd\n",
    "q=5\n",
    "p=2\n",
    "n = q*p\n",
    "print(phi(n))\n",
    "r_number = random.randint(2, (phi(n)-1))\n",
    "for x in range(random.randint(2, (phi(n)-1))):\n",
    "    if((gcd(phi(n), x)) == 1):\n",
    "        e = x\n",
    "        print(e)"
   ]
  },
  {
   "cell_type": "code",
   "execution_count": 138,
   "metadata": {},
   "outputs": [
    {
     "name": "stdout",
     "output_type": "stream",
     "text": [
      "4\n",
      "3\n"
     ]
    }
   ],
   "source": [
    "import random\n",
    "import math\n",
    "def phi(n):\n",
    "    amount = 0\n",
    "    for k in range(1, n + 1):\n",
    "        if gcd(n, k) == 1:\n",
    "            amount += 1\n",
    "    return amount\n",
    "\n",
    "print(phi(10))\n",
    "n = 10\n",
    "l = list(range(2, (phi(n))))\n",
    "for x in l:\n",
    "    if(gcd(phi(n), x) ==1):\n",
    "        e = x\n",
    "print(e)"
   ]
  }
 ],
 "metadata": {
  "kernelspec": {
   "display_name": "Python 3",
   "language": "python",
   "name": "python3"
  },
  "language_info": {
   "codemirror_mode": {
    "name": "ipython",
    "version": 3
   },
   "file_extension": ".py",
   "mimetype": "text/x-python",
   "name": "python",
   "nbconvert_exporter": "python",
   "pygments_lexer": "ipython3",
   "version": "3.11.6"
  }
 },
 "nbformat": 4,
 "nbformat_minor": 2
}

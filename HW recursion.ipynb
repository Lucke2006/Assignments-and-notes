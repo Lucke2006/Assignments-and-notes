{
 "cells": [
  {
   "cell_type": "code",
   "execution_count": 1,
   "metadata": {},
   "outputs": [
    {
     "ename": "RecursionError",
     "evalue": "maximum recursion depth exceeded in comparison",
     "output_type": "error",
     "traceback": [
      "\u001b[1;31m---------------------------------------------------------------------------\u001b[0m",
      "\u001b[1;31mRecursionError\u001b[0m                            Traceback (most recent call last)",
      "\u001b[1;32mc:\\Vscode\\Jupyter Notebook\\W11 L1\\HW recursion.ipynb Cell 1\u001b[0m line \u001b[0;36m1\n\u001b[0;32m     <a href='vscode-notebook-cell:/c%3A/Vscode/Jupyter%20Notebook/W11%20L1/HW%20recursion.ipynb#W0sZmlsZQ%3D%3D?line=9'>10</a>\u001b[0m         count \u001b[39m+\u001b[39m\u001b[39m=\u001b[39m \u001b[39m0\u001b[39m\n\u001b[0;32m     <a href='vscode-notebook-cell:/c%3A/Vscode/Jupyter%20Notebook/W11%20L1/HW%20recursion.ipynb#W0sZmlsZQ%3D%3D?line=11'>12</a>\u001b[0m     \u001b[39mreturn\u001b[39;00m(count)\n\u001b[1;32m---> <a href='vscode-notebook-cell:/c%3A/Vscode/Jupyter%20Notebook/W11%20L1/HW%20recursion.ipynb#W0sZmlsZQ%3D%3D?line=13'>14</a>\u001b[0m counter([\u001b[39m50\u001b[39;49m, \u001b[39m'\u001b[39;49m\u001b[39mJose\u001b[39;49m\u001b[39m'\u001b[39;49m, [\u001b[39m'\u001b[39;49m\u001b[39mJose\u001b[39;49m\u001b[39m'\u001b[39;49m, \u001b[39m50\u001b[39;49m, \u001b[39m60\u001b[39;49m],\u001b[39m'\u001b[39;49m\u001b[39mJo\u001b[39;49m\u001b[39m'\u001b[39;49m], \u001b[39m'\u001b[39;49m\u001b[39mJose\u001b[39;49m\u001b[39m'\u001b[39;49m)\n",
      "\u001b[1;32mc:\\Vscode\\Jupyter Notebook\\W11 L1\\HW recursion.ipynb Cell 1\u001b[0m line \u001b[0;36m8\n\u001b[0;32m      <a href='vscode-notebook-cell:/c%3A/Vscode/Jupyter%20Notebook/W11%20L1/HW%20recursion.ipynb#W0sZmlsZQ%3D%3D?line=5'>6</a>\u001b[0m         \u001b[39mfor\u001b[39;00m x \u001b[39min\u001b[39;00m Container:\n\u001b[0;32m      <a href='vscode-notebook-cell:/c%3A/Vscode/Jupyter%20Notebook/W11%20L1/HW%20recursion.ipynb#W0sZmlsZQ%3D%3D?line=6'>7</a>\u001b[0m             Container \u001b[39m==\u001b[39m x\n\u001b[1;32m----> <a href='vscode-notebook-cell:/c%3A/Vscode/Jupyter%20Notebook/W11%20L1/HW%20recursion.ipynb#W0sZmlsZQ%3D%3D?line=7'>8</a>\u001b[0m             counter(Container, Value)\n\u001b[0;32m      <a href='vscode-notebook-cell:/c%3A/Vscode/Jupyter%20Notebook/W11%20L1/HW%20recursion.ipynb#W0sZmlsZQ%3D%3D?line=8'>9</a>\u001b[0m \u001b[39melse\u001b[39;00m:\n\u001b[0;32m     <a href='vscode-notebook-cell:/c%3A/Vscode/Jupyter%20Notebook/W11%20L1/HW%20recursion.ipynb#W0sZmlsZQ%3D%3D?line=9'>10</a>\u001b[0m     count \u001b[39m+\u001b[39m\u001b[39m=\u001b[39m \u001b[39m0\u001b[39m\n",
      "\u001b[1;32mc:\\Vscode\\Jupyter Notebook\\W11 L1\\HW recursion.ipynb Cell 1\u001b[0m line \u001b[0;36m8\n\u001b[0;32m      <a href='vscode-notebook-cell:/c%3A/Vscode/Jupyter%20Notebook/W11%20L1/HW%20recursion.ipynb#W0sZmlsZQ%3D%3D?line=5'>6</a>\u001b[0m         \u001b[39mfor\u001b[39;00m x \u001b[39min\u001b[39;00m Container:\n\u001b[0;32m      <a href='vscode-notebook-cell:/c%3A/Vscode/Jupyter%20Notebook/W11%20L1/HW%20recursion.ipynb#W0sZmlsZQ%3D%3D?line=6'>7</a>\u001b[0m             Container \u001b[39m==\u001b[39m x\n\u001b[1;32m----> <a href='vscode-notebook-cell:/c%3A/Vscode/Jupyter%20Notebook/W11%20L1/HW%20recursion.ipynb#W0sZmlsZQ%3D%3D?line=7'>8</a>\u001b[0m             counter(Container, Value)\n\u001b[0;32m      <a href='vscode-notebook-cell:/c%3A/Vscode/Jupyter%20Notebook/W11%20L1/HW%20recursion.ipynb#W0sZmlsZQ%3D%3D?line=8'>9</a>\u001b[0m \u001b[39melse\u001b[39;00m:\n\u001b[0;32m     <a href='vscode-notebook-cell:/c%3A/Vscode/Jupyter%20Notebook/W11%20L1/HW%20recursion.ipynb#W0sZmlsZQ%3D%3D?line=9'>10</a>\u001b[0m     count \u001b[39m+\u001b[39m\u001b[39m=\u001b[39m \u001b[39m0\u001b[39m\n",
      "    \u001b[1;31m[... skipping similar frames: counter at line 8 (2969 times)]\u001b[0m\n",
      "\u001b[1;32mc:\\Vscode\\Jupyter Notebook\\W11 L1\\HW recursion.ipynb Cell 1\u001b[0m line \u001b[0;36m8\n\u001b[0;32m      <a href='vscode-notebook-cell:/c%3A/Vscode/Jupyter%20Notebook/W11%20L1/HW%20recursion.ipynb#W0sZmlsZQ%3D%3D?line=5'>6</a>\u001b[0m         \u001b[39mfor\u001b[39;00m x \u001b[39min\u001b[39;00m Container:\n\u001b[0;32m      <a href='vscode-notebook-cell:/c%3A/Vscode/Jupyter%20Notebook/W11%20L1/HW%20recursion.ipynb#W0sZmlsZQ%3D%3D?line=6'>7</a>\u001b[0m             Container \u001b[39m==\u001b[39m x\n\u001b[1;32m----> <a href='vscode-notebook-cell:/c%3A/Vscode/Jupyter%20Notebook/W11%20L1/HW%20recursion.ipynb#W0sZmlsZQ%3D%3D?line=7'>8</a>\u001b[0m             counter(Container, Value)\n\u001b[0;32m      <a href='vscode-notebook-cell:/c%3A/Vscode/Jupyter%20Notebook/W11%20L1/HW%20recursion.ipynb#W0sZmlsZQ%3D%3D?line=8'>9</a>\u001b[0m \u001b[39melse\u001b[39;00m:\n\u001b[0;32m     <a href='vscode-notebook-cell:/c%3A/Vscode/Jupyter%20Notebook/W11%20L1/HW%20recursion.ipynb#W0sZmlsZQ%3D%3D?line=9'>10</a>\u001b[0m     count \u001b[39m+\u001b[39m\u001b[39m=\u001b[39m \u001b[39m0\u001b[39m\n",
      "\u001b[1;32mc:\\Vscode\\Jupyter Notebook\\W11 L1\\HW recursion.ipynb Cell 1\u001b[0m line \u001b[0;36m5\n\u001b[0;32m      <a href='vscode-notebook-cell:/c%3A/Vscode/Jupyter%20Notebook/W11%20L1/HW%20recursion.ipynb#W0sZmlsZQ%3D%3D?line=2'>3</a>\u001b[0m \u001b[39mif\u001b[39;00m(Value \u001b[39min\u001b[39;00m Container):\n\u001b[0;32m      <a href='vscode-notebook-cell:/c%3A/Vscode/Jupyter%20Notebook/W11%20L1/HW%20recursion.ipynb#W0sZmlsZQ%3D%3D?line=3'>4</a>\u001b[0m     \u001b[39mif\u001b[39;00m(\u001b[39mtype\u001b[39m(Container) \u001b[39m==\u001b[39m (\u001b[39mlist\u001b[39m)) \u001b[39mor\u001b[39;00m (\u001b[39mtype\u001b[39m(Container) \u001b[39m==\u001b[39m (\u001b[39mtuple\u001b[39m)) \u001b[39mor\u001b[39;00m (\u001b[39mtype\u001b[39m(Container) \u001b[39m==\u001b[39m (\u001b[39mset\u001b[39m)) \u001b[39mor\u001b[39;00m (\u001b[39mtype\u001b[39m(Container) \u001b[39m==\u001b[39m (\u001b[39mdict\u001b[39m)):\n\u001b[1;32m----> <a href='vscode-notebook-cell:/c%3A/Vscode/Jupyter%20Notebook/W11%20L1/HW%20recursion.ipynb#W0sZmlsZQ%3D%3D?line=4'>5</a>\u001b[0m         count \u001b[39m+\u001b[39m\u001b[39m=\u001b[39m Container\u001b[39m.\u001b[39mcount(Value)\n\u001b[0;32m      <a href='vscode-notebook-cell:/c%3A/Vscode/Jupyter%20Notebook/W11%20L1/HW%20recursion.ipynb#W0sZmlsZQ%3D%3D?line=5'>6</a>\u001b[0m         \u001b[39mfor\u001b[39;00m x \u001b[39min\u001b[39;00m Container:\n\u001b[0;32m      <a href='vscode-notebook-cell:/c%3A/Vscode/Jupyter%20Notebook/W11%20L1/HW%20recursion.ipynb#W0sZmlsZQ%3D%3D?line=6'>7</a>\u001b[0m             Container \u001b[39m==\u001b[39m x\n",
      "\u001b[1;31mRecursionError\u001b[0m: maximum recursion depth exceeded in comparison"
     ]
    }
   ],
   "source": [
    "def counter(Container, Value):\n",
    "    count = 0\n",
    "    if(Value in Container):\n",
    "        if(type(Container) == (list)) or (type(Container) == (tuple)) or (type(Container) == (set)) or (type(Container) == (dict)):\n",
    "            count += Container.count(Value)\n",
    "            for x in Container:\n",
    "                Container == x\n",
    "                counter(Container, Value)\n",
    "    else:\n",
    "        count += 0\n",
    "    \n",
    "    return(count)\n",
    "\n",
    "counter([50, 'Jose', ['Jose', 50, 60],'Jo'], 'Jose')\n"
   ]
  },
  {
   "cell_type": "code",
   "execution_count": 1,
   "metadata": {},
   "outputs": [
    {
     "data": {
      "text/plain": [
       "1"
      ]
     },
     "execution_count": 1,
     "metadata": {},
     "output_type": "execute_result"
    }
   ],
   "source": [
    "# change Container to Node, and Value to comparison\n",
    "def counter(Container, Value):\n",
    "    count = 0\n",
    "    # count += Container.count(Value)\n",
    "    if(type(Container) == (list)) or (type(Container) == (tuple)) or (type(Container) == (set)) or (type(Container) == (dict)):\n",
    "        for x in Container:\n",
    "            count += counter(x, Value)\n",
    "    if(Container == Value):\n",
    "        count += 1\n",
    "    return count\n",
    "\n",
    "\n",
    "counter(['John', {'John', }], 'John')\n",
    "\n"
   ]
  },
  {
   "cell_type": "code",
   "execution_count": 23,
   "metadata": {},
   "outputs": [
    {
     "name": "stdout",
     "output_type": "stream",
     "text": [
      "2\n"
     ]
    },
    {
     "data": {
      "text/plain": [
       "0"
      ]
     },
     "execution_count": 23,
     "metadata": {},
     "output_type": "execute_result"
    }
   ],
   "source": [
    "count = 0\n",
    "count += ([50, 'Jose', 'Jose', 70]).count('Jose')\n",
    "print(count)\n"
   ]
  },
  {
   "cell_type": "code",
   "execution_count": 5,
   "metadata": {},
   "outputs": [
    {
     "name": "stdout",
     "output_type": "stream",
     "text": [
      "{'Leo', 50, 60, ('Leo', 'Jose')}\n"
     ]
    }
   ],
   "source": [
    "s = {50, 60, 'Leo', 'Leo', ('Leo', 'Jose')}\n",
    "print(s)"
   ]
  }
 ],
 "metadata": {
  "kernelspec": {
   "display_name": "Python 3",
   "language": "python",
   "name": "python3"
  },
  "language_info": {
   "codemirror_mode": {
    "name": "ipython",
    "version": 3
   },
   "file_extension": ".py",
   "mimetype": "text/x-python",
   "name": "python",
   "nbconvert_exporter": "python",
   "pygments_lexer": "ipython3",
   "version": "3.11.6"
  }
 },
 "nbformat": 4,
 "nbformat_minor": 2
}

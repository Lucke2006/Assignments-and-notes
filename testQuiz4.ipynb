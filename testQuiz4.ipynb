{
 "cells": [
  {
   "cell_type": "code",
   "execution_count": null,
   "metadata": {},
   "outputs": [],
   "source": []
  },
  {
   "cell_type": "code",
   "execution_count": 35,
   "metadata": {},
   "outputs": [
    {
     "name": "stdout",
     "output_type": "stream",
     "text": [
      "3 2 1 0 0 0\n",
      "2\n"
     ]
    }
   ],
   "source": [
    "MyClass = ['John', ('John', 'John', 106, False), 'John', 'Jose', 'John', 106, {'John', 106, False}, False]\n",
    "substring = 'John'\n",
    "for x in MyClass:\n",
    "    count = MyClass.count(substring)\n",
    "    if(type(x) == (tuple)):\n",
    "        if(substring in x):\n",
    "            for y in x:\n",
    "                count2 = x.count(substring)\n",
    "        else:\n",
    "            count2 = 0\n",
    "    if(type(x) == (set)):\n",
    "        if((substring in x) == 1):\n",
    "            count3 = 1\n",
    "        else:\n",
    "            count3 = 0\n",
    "    if(type(x) == (list)):\n",
    "        if((substring in x) == 1):\n",
    "            for c in x:\n",
    "                count4 = x.count(substring)\n",
    "        else:\n",
    "            count4 = 0\n",
    "    else:\n",
    "        count4 = 0\n",
    "    if(type(x) == (dict)):\n",
    "        if((substring in x) == 1):\n",
    "            for f in x:\n",
    "                for z in f:\n",
    "                    countK = y.count(substring)\n",
    "                    countV = z.count(substring)\n",
    "        else:\n",
    "            countK = 0\n",
    "            countV = 0\n",
    "    i = count + count2 + count3 + count4 + countK + countV \n",
    "print(count, count2, count3, count4, countK, countV)\n",
    "print(count2)"
   ]
  },
  {
   "cell_type": "code",
   "execution_count": 28,
   "metadata": {},
   "outputs": [
    {
     "data": {
      "text/plain": [
       "tuple"
      ]
     },
     "execution_count": 28,
     "metadata": {},
     "output_type": "execute_result"
    }
   ],
   "source": [
    "T = (5, 7)\n",
    "type(T)"
   ]
  },
  {
   "cell_type": "code",
   "execution_count": 22,
   "metadata": {},
   "outputs": [
    {
     "ename": "NameError",
     "evalue": "name 'count3' is not defined",
     "output_type": "error",
     "traceback": [
      "\u001b[1;31m---------------------------------------------------------------------------\u001b[0m",
      "\u001b[1;31mNameError\u001b[0m                                 Traceback (most recent call last)",
      "\u001b[1;32mUntitled-1.ipynb Cell 4\u001b[0m line \u001b[0;36m1\n\u001b[0;32m     <a href='vscode-notebook-cell:Untitled-1.ipynb?jupyter-notebook#W4sdW50aXRsZWQ%3D?line=10'>11</a>\u001b[0m         \u001b[39melse\u001b[39;00m:\n\u001b[0;32m     <a href='vscode-notebook-cell:Untitled-1.ipynb?jupyter-notebook#W4sdW50aXRsZWQ%3D?line=11'>12</a>\u001b[0m             count3 \u001b[39m=\u001b[39m \u001b[39m0\u001b[39m\n\u001b[1;32m---> <a href='vscode-notebook-cell:Untitled-1.ipynb?jupyter-notebook#W4sdW50aXRsZWQ%3D?line=12'>13</a>\u001b[0m     i \u001b[39m=\u001b[39m count \u001b[39m+\u001b[39m count2 \u001b[39m+\u001b[39m count3\n\u001b[0;32m     <a href='vscode-notebook-cell:Untitled-1.ipynb?jupyter-notebook#W4sdW50aXRsZWQ%3D?line=13'>14</a>\u001b[0m \u001b[39mprint\u001b[39m(i)\n",
      "\u001b[1;31mNameError\u001b[0m: name 'count3' is not defined"
     ]
    }
   ],
   "source": [
    "MyClass = ['John', ('John', 'John', 106, False), 'John', 106, {'John', 106, False}, False]\n",
    "substring = 'John'\n",
    "for x in MyClass:\n",
    "    count = MyClass.count(substring)\n",
    "    if(type(x) == (list)) or (type(x) == (tuple)):\n",
    "        for y in x:\n",
    "            count2 = x.count(substring)\n",
    "    if(type(x) == (set)):\n",
    "        if(('John' in x) == True):\n",
    "            count3 = 1\n",
    "        else:\n",
    "            count3 = 0\n",
    "    i = count + count2 + count3\n",
    "print(i)"
   ]
  },
  {
   "cell_type": "code",
   "execution_count": 4,
   "metadata": {},
   "outputs": [
    {
     "data": {
      "text/plain": [
       "(0, 1, 0, 1, 1, 1)"
      ]
     },
     "execution_count": 4,
     "metadata": {},
     "output_type": "execute_result"
    }
   ],
   "source": [
    "#FINAL\n",
    "def counter(Container, Value):\n",
    "    if(type(Container) == (list)) or (type(Container) == (tuple)):\n",
    "        for x in Container:\n",
    "            count1 = Container.count(Value)\n",
    "            if (type(x) == (tuple)) or (type(x) == (list)) or (type(x) == (dict)) or (type(x) == (set)):\n",
    "                if(Value in x):\n",
    "                    if(type(x) == (tuple)):\n",
    "                        count2 = x.count(Value)\n",
    "\n",
    "                    if(type(x) == (set)):\n",
    "                        count3 = 1\n",
    "\n",
    "                    if(type(x) == (list)):\n",
    "                        count4 = x.count(Value)\n",
    "                        \n",
    "                    if(type(x) == (dict)):\n",
    "                        countK = 1\n",
    "                        countV = sum(1 for value in x.values() if value == Value)   \n",
    "                else:\n",
    "                    count2 = 0\n",
    "                    count3 = 0\n",
    "                    count4 = 0\n",
    "                    countK = 0\n",
    "                    countV = 0\n",
    "            else:\n",
    "                count2 = 0\n",
    "                count3 = 0\n",
    "                count4 = 0\n",
    "                countK = 0\n",
    "                countV = 0\n",
    "        i = count1 + count2 + count3 + count4 + countK + countV \n",
    "        return(count1, count2, count3, count4, countK, countV)\n",
    "    \n",
    "\n",
    "    if(type(Container) == (dict)):\n",
    "        if(Value in Container):\n",
    "            countK = 1\n",
    "        countV = sum(1 for value in Container.values() if value == Value)\n",
    "        return(countK + countV)\n",
    "    \n",
    "\n",
    "    if(type(Container) == (set)):\n",
    "        for x in Container:\n",
    "            if(Value in Container):\n",
    "                count1 = 1\n",
    "            if(type(x) == (tuple)):\n",
    "                if(Value in x):\n",
    "                    count2 = x.count(Value)\n",
    "                else:\n",
    "                    count2 = 0\n",
    "        i = count1 + count2\n",
    "        return(i)\n",
    "\n",
    "counter([50, 'k', ['Jose', 60], {'Jose': 'Jose'}, ('Jose', 9)], 'Jose')"
   ]
  },
  {
   "cell_type": "code",
   "execution_count": 128,
   "metadata": {},
   "outputs": [
    {
     "data": {
      "text/plain": [
       "1"
      ]
     },
     "execution_count": 128,
     "metadata": {},
     "output_type": "execute_result"
    }
   ],
   "source": [
    "D = {'Jose': 'Jose', 'Garcia': 50}\n",
    "for x in D:\n",
    "    count1 = x.count('Jose')\n",
    "count = sum(1 for value in D.values() if value == 'Jose')   \n",
    "\n",
    "countf = count + count1\n",
    "countf"
   ]
  },
  {
   "cell_type": "code",
   "execution_count": 117,
   "metadata": {},
   "outputs": [
    {
     "data": {
      "text/plain": [
       "2"
      ]
     },
     "execution_count": 117,
     "metadata": {},
     "output_type": "execute_result"
    }
   ],
   "source": [
    "D = {'a': 97, 'c': 0 , 'b':0,'e': 94, 'r': 97 , 'g':0}\n",
    "count = sum(1 for value in D.values() if value == 97)\n",
    "count"
   ]
  },
  {
   "cell_type": "code",
   "execution_count": 135,
   "metadata": {},
   "outputs": [
    {
     "data": {
      "text/plain": [
       "{50, 'Jose'}"
      ]
     },
     "execution_count": 135,
     "metadata": {},
     "output_type": "execute_result"
    }
   ],
   "source": [
    "s = {'Jose', 'Jose', 50}\n",
    "s"
   ]
  },
  {
   "cell_type": "code",
   "execution_count": 3,
   "metadata": {},
   "outputs": [
    {
     "name": "stdout",
     "output_type": "stream",
     "text": [
      "<class 'str'>\n",
      "<class 'int'>\n",
      "<class 'int'>\n",
      "<class 'list'>\n",
      "<class 'str'>\n",
      "<class 'tuple'>\n",
      "<class 'dict'>\n"
     ]
    },
    {
     "data": {
      "text/plain": [
       "1"
      ]
     },
     "execution_count": 3,
     "metadata": {},
     "output_type": "execute_result"
    }
   ],
   "source": [
    "l = ['Jose', 89, 56, ['Jose', 56], 'Jose', ('Jose', 50), {'Jose': 'Jose'}]\n",
    "for x in l:\n",
    "    print(type(x))\n",
    "if(type(l[3]) == (list)):\n",
    "    count = 1\n",
    "else:\n",
    "    count = 2\n",
    "count"
   ]
  },
  {
   "cell_type": "code",
   "execution_count": 8,
   "metadata": {},
   "outputs": [
    {
     "name": "stdout",
     "output_type": "stream",
     "text": [
      "The count of each item in the list is: Counter({1: 3, 2: 3, 3: 3, 4: 1, 5: 1, 6: 1, 7: 1, 8: 1, 9: 1})\n"
     ]
    }
   ],
   "source": [
    "from collections import Counter\n",
    "\n",
    "list_of_lists = [[1, 2, 3], [4, 5, 6], [1, 2, 3], [7, 8, 9], [1, 2, 3]]\n",
    "flattened_list = [item for sublist in list_of_lists for item in sublist]\n",
    "counted_items = Counter(flattened_list)\n",
    "\n",
    "print(f\"The count of each item in the list is: {counted_items}\")"
   ]
  },
  {
   "cell_type": "code",
   "execution_count": 9,
   "metadata": {},
   "outputs": [
    {
     "ename": "KeyboardInterrupt",
     "evalue": "",
     "output_type": "error",
     "traceback": [
      "\u001b[1;31m---------------------------------------------------------------------------\u001b[0m",
      "\u001b[1;31mKeyboardInterrupt\u001b[0m                         Traceback (most recent call last)",
      "\u001b[1;32mc:\\Vscode\\Jupyter Notebook\\W10 L3\\testQuiz4.ipynb Cell 11\u001b[0m line \u001b[0;36m5\n\u001b[0;32m     <a href='vscode-notebook-cell:/c%3A/Vscode/Jupyter%20Notebook/W10%20L3/testQuiz4.ipynb#X13sZmlsZQ%3D%3D?line=53'>54</a>\u001b[0m         i \u001b[39m=\u001b[39m count1 \u001b[39m+\u001b[39m count2\n\u001b[0;32m     <a href='vscode-notebook-cell:/c%3A/Vscode/Jupyter%20Notebook/W10%20L3/testQuiz4.ipynb#X13sZmlsZQ%3D%3D?line=54'>55</a>\u001b[0m         \u001b[39mreturn\u001b[39;00m(i)\n\u001b[1;32m---> <a href='vscode-notebook-cell:/c%3A/Vscode/Jupyter%20Notebook/W10%20L3/testQuiz4.ipynb#X13sZmlsZQ%3D%3D?line=56'>57</a>\u001b[0m counter([\u001b[39m50\u001b[39;49m, \u001b[39m'\u001b[39;49m\u001b[39mk\u001b[39;49m\u001b[39m'\u001b[39;49m, [\u001b[39m'\u001b[39;49m\u001b[39mJose\u001b[39;49m\u001b[39m'\u001b[39;49m, \u001b[39m60\u001b[39;49m], {\u001b[39m'\u001b[39;49m\u001b[39mJose\u001b[39;49m\u001b[39m'\u001b[39;49m: \u001b[39m'\u001b[39;49m\u001b[39mJose\u001b[39;49m\u001b[39m'\u001b[39;49m}, (\u001b[39m'\u001b[39;49m\u001b[39mJose\u001b[39;49m\u001b[39m'\u001b[39;49m,[\u001b[39m'\u001b[39;49m\u001b[39mJose\u001b[39;49m\u001b[39m'\u001b[39;49m, \u001b[39m5\u001b[39;49m], \u001b[39m9\u001b[39;49m)], \u001b[39m'\u001b[39;49m\u001b[39mJose\u001b[39;49m\u001b[39m'\u001b[39;49m)\n",
      "\u001b[1;32mc:\\Vscode\\Jupyter Notebook\\W10 L3\\testQuiz4.ipynb Cell 11\u001b[0m line \u001b[0;36m9\n\u001b[0;32m      <a href='vscode-notebook-cell:/c%3A/Vscode/Jupyter%20Notebook/W10%20L3/testQuiz4.ipynb#X13sZmlsZQ%3D%3D?line=6'>7</a>\u001b[0m \u001b[39mif\u001b[39;00m(\u001b[39mtype\u001b[39m(x) \u001b[39m==\u001b[39m (\u001b[39mtuple\u001b[39m)):\n\u001b[0;32m      <a href='vscode-notebook-cell:/c%3A/Vscode/Jupyter%20Notebook/W10%20L3/testQuiz4.ipynb#X13sZmlsZQ%3D%3D?line=7'>8</a>\u001b[0m     \u001b[39mwhile\u001b[39;00m(Value \u001b[39min\u001b[39;00m x):\n\u001b[1;32m----> <a href='vscode-notebook-cell:/c%3A/Vscode/Jupyter%20Notebook/W10%20L3/testQuiz4.ipynb#X13sZmlsZQ%3D%3D?line=8'>9</a>\u001b[0m         count2 \u001b[39m=\u001b[39m counter(x, Value)\n\u001b[0;32m     <a href='vscode-notebook-cell:/c%3A/Vscode/Jupyter%20Notebook/W10%20L3/testQuiz4.ipynb#X13sZmlsZQ%3D%3D?line=10'>11</a>\u001b[0m \u001b[39mif\u001b[39;00m(\u001b[39mtype\u001b[39m(x) \u001b[39m==\u001b[39m (\u001b[39mset\u001b[39m)):\n\u001b[0;32m     <a href='vscode-notebook-cell:/c%3A/Vscode/Jupyter%20Notebook/W10%20L3/testQuiz4.ipynb#X13sZmlsZQ%3D%3D?line=11'>12</a>\u001b[0m     count3 \u001b[39m=\u001b[39m counter(x, Value)\n",
      "\u001b[1;32mc:\\Vscode\\Jupyter Notebook\\W10 L3\\testQuiz4.ipynb Cell 11\u001b[0m line \u001b[0;36m1\n\u001b[0;32m     <a href='vscode-notebook-cell:/c%3A/Vscode/Jupyter%20Notebook/W10%20L3/testQuiz4.ipynb#X13sZmlsZQ%3D%3D?line=11'>12</a>\u001b[0m     count3 \u001b[39m=\u001b[39m counter(x, Value)\n\u001b[0;32m     <a href='vscode-notebook-cell:/c%3A/Vscode/Jupyter%20Notebook/W10%20L3/testQuiz4.ipynb#X13sZmlsZQ%3D%3D?line=13'>14</a>\u001b[0m \u001b[39mif\u001b[39;00m(\u001b[39mtype\u001b[39m(x) \u001b[39m==\u001b[39m (\u001b[39mlist\u001b[39m)):\n\u001b[1;32m---> <a href='vscode-notebook-cell:/c%3A/Vscode/Jupyter%20Notebook/W10%20L3/testQuiz4.ipynb#X13sZmlsZQ%3D%3D?line=14'>15</a>\u001b[0m     count4 \u001b[39m=\u001b[39m counter(x, Value)\n\u001b[0;32m     <a href='vscode-notebook-cell:/c%3A/Vscode/Jupyter%20Notebook/W10%20L3/testQuiz4.ipynb#X13sZmlsZQ%3D%3D?line=16'>17</a>\u001b[0m \u001b[39mif\u001b[39;00m(\u001b[39mtype\u001b[39m(x) \u001b[39m==\u001b[39m (\u001b[39mdict\u001b[39m)):\n\u001b[0;32m     <a href='vscode-notebook-cell:/c%3A/Vscode/Jupyter%20Notebook/W10%20L3/testQuiz4.ipynb#X13sZmlsZQ%3D%3D?line=17'>18</a>\u001b[0m     countK \u001b[39m=\u001b[39m \u001b[39m1\u001b[39m\n",
      "\u001b[1;32mc:\\Vscode\\Jupyter Notebook\\W10 L3\\testQuiz4.ipynb Cell 11\u001b[0m line \u001b[0;36m4\n\u001b[0;32m      <a href='vscode-notebook-cell:/c%3A/Vscode/Jupyter%20Notebook/W10%20L3/testQuiz4.ipynb#X13sZmlsZQ%3D%3D?line=1'>2</a>\u001b[0m \u001b[39mif\u001b[39;00m(\u001b[39mtype\u001b[39m(Container) \u001b[39m==\u001b[39m (\u001b[39mlist\u001b[39m)) \u001b[39mor\u001b[39;00m (\u001b[39mtype\u001b[39m(Container) \u001b[39m==\u001b[39m (\u001b[39mtuple\u001b[39m)):\n\u001b[0;32m      <a href='vscode-notebook-cell:/c%3A/Vscode/Jupyter%20Notebook/W10%20L3/testQuiz4.ipynb#X13sZmlsZQ%3D%3D?line=2'>3</a>\u001b[0m     \u001b[39mfor\u001b[39;00m x \u001b[39min\u001b[39;00m Container:\n\u001b[1;32m----> <a href='vscode-notebook-cell:/c%3A/Vscode/Jupyter%20Notebook/W10%20L3/testQuiz4.ipynb#X13sZmlsZQ%3D%3D?line=3'>4</a>\u001b[0m         count1 \u001b[39m=\u001b[39m Container\u001b[39m.\u001b[39mcount(Value)\n\u001b[0;32m      <a href='vscode-notebook-cell:/c%3A/Vscode/Jupyter%20Notebook/W10%20L3/testQuiz4.ipynb#X13sZmlsZQ%3D%3D?line=4'>5</a>\u001b[0m         \u001b[39mif\u001b[39;00m (\u001b[39mtype\u001b[39m(x) \u001b[39m==\u001b[39m (\u001b[39mtuple\u001b[39m)) \u001b[39mor\u001b[39;00m (\u001b[39mtype\u001b[39m(x) \u001b[39m==\u001b[39m (\u001b[39mlist\u001b[39m)) \u001b[39mor\u001b[39;00m (\u001b[39mtype\u001b[39m(x) \u001b[39m==\u001b[39m (\u001b[39mdict\u001b[39m)) \u001b[39mor\u001b[39;00m (\u001b[39mtype\u001b[39m(x) \u001b[39m==\u001b[39m (\u001b[39mset\u001b[39m)):\n\u001b[0;32m      <a href='vscode-notebook-cell:/c%3A/Vscode/Jupyter%20Notebook/W10%20L3/testQuiz4.ipynb#X13sZmlsZQ%3D%3D?line=5'>6</a>\u001b[0m             \u001b[39mif\u001b[39;00m(Value \u001b[39min\u001b[39;00m x):\n",
      "\u001b[1;31mKeyboardInterrupt\u001b[0m: "
     ]
    }
   ],
   "source": [
    "def counter(Container, Value):\n",
    "    if(type(Container) == (list)) or (type(Container) == (tuple)):\n",
    "        for x in Container:\n",
    "            count1 = Container.count(Value)\n",
    "            if (type(x) == (tuple)) or (type(x) == (list)) or (type(x) == (dict)) or (type(x) == (set)):\n",
    "                if(Value in x):\n",
    "                    if(type(x) == (tuple)):\n",
    "                        while(Value in x):\n",
    "                            count2 = counter(x, Value)\n",
    "\n",
    "                    if(type(x) == (set)):\n",
    "                        count3 = counter(x, Value)\n",
    "\n",
    "                    if(type(x) == (list)):\n",
    "                        count4 = counter(x, Value)\n",
    "                        \n",
    "                    if(type(x) == (dict)):\n",
    "                        countK = 1\n",
    "                        countV = sum(1 for value in x.values() if value == Value)   \n",
    "                    else:\n",
    "                        countK = 0\n",
    "                        countV = 0\n",
    "                else:\n",
    "                    count2 = 0\n",
    "                    count3 = 0\n",
    "                    count4 = 0\n",
    "                    countK = 0\n",
    "                    countV = 0\n",
    "            else:\n",
    "                count2 = 0\n",
    "                count3 = 0\n",
    "                count4 = 0\n",
    "                countK = 0\n",
    "                countV = 0\n",
    "        return(count1, count2, count3, count4, countK, countV)\n",
    "    \n",
    "\n",
    "    if(type(Container) == (dict)):\n",
    "        if(Value in Container):\n",
    "            countK = 1\n",
    "        countV = sum(1 for value in Container.values() if value == Value)\n",
    "        return(countK + countV)\n",
    "    \n",
    "\n",
    "    if(type(Container) == (set)):\n",
    "        for x in Container:\n",
    "            if(Value in Container):\n",
    "                count1 = 1\n",
    "            if(type(x) == (tuple)):\n",
    "                if(Value in x):\n",
    "                    count2 = x.count(Value)\n",
    "                else:\n",
    "                    count2 = 0\n",
    "        i = count1 + count2\n",
    "        return(i)\n",
    "    \n",
    "counter([50, 'k', ['Jose', 60], {'Jose': 'Jose'}, ('Jose',['Jose', 5], 9)], 'Jose')"
   ]
  },
  {
   "cell_type": "code",
   "execution_count": 35,
   "metadata": {},
   "outputs": [
    {
     "data": {
      "text/plain": [
       "1"
      ]
     },
     "execution_count": 35,
     "metadata": {},
     "output_type": "execute_result"
    }
   ],
   "source": [
    "def counter(Container, Value):\n",
    "    if(Value in Container):\n",
    "        if(type(Container) == (list)) or (type(Container) == (tuple)):\n",
    "            for x in Container:\n",
    "                count1 = Container.count(Value)\n",
    "                if (type(x) == (tuple)) or (type(x) == (list)) or (type(x) == (dict)) or (type(x) == (set)):\n",
    "                    if(Value in x):\n",
    "                        Container = x\n",
    "                        Value = Value\n",
    "                        counter(Container, Value)\n",
    "                    else:\n",
    "                        continue\n",
    "    else:\n",
    "        count1 = 0\n",
    "    return(count1)\n",
    "\n",
    "counter(['Jose', 50, 60, ['Jose', 60]], 'Jose')\n",
    "                    \n"
   ]
  },
  {
   "cell_type": "code",
   "execution_count": 9,
   "metadata": {},
   "outputs": [
    {
     "data": {
      "text/plain": [
       "4"
      ]
     },
     "execution_count": 9,
     "metadata": {},
     "output_type": "execute_result"
    }
   ],
   "source": [
    "\n",
    "def CountThing(value, compare):\n",
    "    count = 0\n",
    "    if (type(value) == (tuple)) or (type(value) == (list)) or (type(value) == (dict)) or (type(value) == (set)):\n",
    "        for x in value:\n",
    "            count += CountThing(x, compare)\n",
    "\n",
    "    if(value == compare):\n",
    "        count += 1\n",
    "\n",
    "    return count\n",
    "\n",
    "CountThing(['Jose', 50, 60, ['Jose', 60], {\"Jose\", 4, (\"Jose\", 12)}], 'Jose')\n",
    "\n"
   ]
  },
  {
   "cell_type": "code",
   "execution_count": 34,
   "metadata": {},
   "outputs": [
    {
     "data": {
      "text/plain": [
       "120"
      ]
     },
     "execution_count": 34,
     "metadata": {},
     "output_type": "execute_result"
    }
   ],
   "source": [
    "def factorial(n):\n",
    "    if n == 1:\n",
    "        return 1\n",
    "    else:\n",
    "        return n * factorial(n-1)\n",
    "\n",
    "factorial(5)"
   ]
  }
 ],
 "metadata": {
  "kernelspec": {
   "display_name": "Python 3",
   "language": "python",
   "name": "python3"
  },
  "language_info": {
   "codemirror_mode": {
    "name": "ipython",
    "version": 3
   },
   "file_extension": ".py",
   "mimetype": "text/x-python",
   "name": "python",
   "nbconvert_exporter": "python",
   "pygments_lexer": "ipython3",
   "version": "3.11.6"
  }
 },
 "nbformat": 4,
 "nbformat_minor": 2
}

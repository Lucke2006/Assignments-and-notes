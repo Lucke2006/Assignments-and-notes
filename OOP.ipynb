{
 "cells": [
  {
   "cell_type": "code",
   "execution_count": 5,
   "metadata": {},
   "outputs": [
    {
     "name": "stdout",
     "output_type": "stream",
     "text": [
      "Red is a 5 years old parrot\n"
     ]
    }
   ],
   "source": [
    "class Parrot:\n",
    "#class attribute\n",
    "    name = \"\"\n",
    "    age = 0\n",
    "\n",
    "#create prrot object\n",
    "parrot1 = Parrot()\n",
    "parrot1.name = \"Blu\"\n",
    "parrot1.age = 10\n",
    "\n",
    "parrot2 = Parrot()\n",
    "parrot2.name = \"Red\"\n",
    "parrot2.age = 5 \n",
    "\n",
    "#access attributes\n",
    "print(f\"{parrot2.name} is a {parrot2.age} years old parrot\")"
   ]
  },
  {
   "cell_type": "code",
   "execution_count": null,
   "metadata": {},
   "outputs": [],
   "source": []
  },
  {
   "cell_type": "code",
   "execution_count": 6,
   "metadata": {},
   "outputs": [
    {
     "name": "stdout",
     "output_type": "stream",
     "text": [
      "Blu is a 10 years old parrot\n"
     ]
    }
   ],
   "source": [
    "class Parrot:\n",
    "#class attribute\n",
    "    name = \"\"\n",
    "    age = 0\n",
    "\n",
    "#create prrot object\n",
    "parrot1 = Parrot()\n",
    "parrot1.name = \"Blu\"\n",
    "parrot1.age = 10\n",
    "\n",
    "#access attributes\n",
    "print(f\"{parrot1.name} is a {parrot1.age} years old parrot\")"
   ]
  },
  {
   "cell_type": "code",
   "execution_count": 7,
   "metadata": {},
   "outputs": [
    {
     "name": "stdout",
     "output_type": "stream",
     "text": [
      "Fisher is a 5 years old parrot\n"
     ]
    }
   ],
   "source": [
    "class Parrot:\n",
    "#class attribute\n",
    "    name = \"\"\n",
    "    age = 0\n",
    "\n",
    "#create prrot object\n",
    "parrot1 = Parrot()\n",
    "parrot1.name = \"Blu\"\n",
    "parrot1.age = 10\n",
    "\n",
    "parrot2 = Parrot()\n",
    "parrot2.name = \"Fisher\"\n",
    "parrot2.age = 5 \n",
    "\n",
    "#access attributes\n",
    "print(f\"{parrot2.name} is a {parrot2.age} years old parrot\")"
   ]
  },
  {
   "cell_type": "code",
   "execution_count": 8,
   "metadata": {},
   "outputs": [
    {
     "name": "stdout",
     "output_type": "stream",
     "text": [
      "Blu is a 10 year old yellow parrot\n"
     ]
    }
   ],
   "source": [
    "class Parrot:\n",
    "#class attribute\n",
    "    name = \"\"\n",
    "    age = 0\n",
    "    color = \"\"\n",
    "\n",
    "#create prrot object\n",
    "parrot1 = Parrot()\n",
    "parrot1.name = \"Blu\"\n",
    "parrot1.age = 10\n",
    "parrot1.color = \"yellow\"\n",
    "\n",
    "#access attributes\n",
    "print(f\"{parrot1.name} is a {parrot1.age} year old {parrot1.color} parrot\")"
   ]
  },
  {
   "cell_type": "code",
   "execution_count": 10,
   "metadata": {},
   "outputs": [
    {
     "name": "stdout",
     "output_type": "stream",
     "text": [
      "The 100 year old black eagle was named Zazu\n"
     ]
    }
   ],
   "source": [
    "class eagles:\n",
    "    name = \"\"\n",
    "    color = \"\"\n",
    "    age = 0\n",
    "\n",
    "eagles1 = eagles()\n",
    "eagles1.name = \"Zazu\"\n",
    "eagles1.color = \"black\"\n",
    "eagles1.age = 100\n",
    "\n",
    "print(f\"The {eagles1.age} year old {eagles1.color} eagle was named {eagles1.name}\")"
   ]
  }
 ],
 "metadata": {
  "kernelspec": {
   "display_name": "Python 3",
   "language": "python",
   "name": "python3"
  },
  "language_info": {
   "codemirror_mode": {
    "name": "ipython",
    "version": 3
   },
   "file_extension": ".py",
   "mimetype": "text/x-python",
   "name": "python",
   "nbconvert_exporter": "python",
   "pygments_lexer": "ipython3",
   "version": "3.11.7"
  }
 },
 "nbformat": 4,
 "nbformat_minor": 2
}
